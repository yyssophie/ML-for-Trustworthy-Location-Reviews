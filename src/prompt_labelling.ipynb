{
 "cells": [
  {
   "cell_type": "code",
   "execution_count": 1,
   "id": "d3d64476",
   "metadata": {},
   "outputs": [],
   "source": [
    "import pandas as pd\n",
    "import json\n",
    "from openai import OpenAI\n",
    "import os\n",
    "from dotenv import load_dotenv\n",
    "from concurrent.futures import ThreadPoolExecutor, as_completed\n",
    "from tqdm import tqdm"
   ]
  },
  {
   "cell_type": "code",
   "execution_count": 2,
   "id": "a2b23136",
   "metadata": {},
   "outputs": [],
   "source": [
    "ENGLSIH_SYS_PRMOPT=\"\"\"\n",
    "You are a top-tier content moderation expert specializing in the evaluation of Google Maps location reviews. \n",
    "Your task is to parse a JSON object containing review data and accurately classify it according to the following policies and rules.\n",
    "\n",
    "# Moderation Policies & Label Definitions:\n",
    "\n",
    "1. **\"Valid\"**  \n",
    "   A normal review that is relevant to the location and shares a genuine experience.\n",
    "\n",
    "2. **\"Advertisement\"**  \n",
    "   The primary purpose of the review is to promote another product, service, or website.  \n",
    "   - Detect **URL / links** (e.g., \"http://\", \"www.\").  \n",
    "   - Detect **promotion keywords** (e.g., \"discount\", \"promo\", \"sale\").  \n",
    "\n",
    "3. **\"Irrelevant\"**  \n",
    "   The review content is completely unrelated to the location, service, or experience being reviewed.  \n",
    "   - **Relevancy Rules**:  \n",
    "     - If short text (≤ N words) → need to carefully check relevance. \n",
    "     - If the subject or adjective in the short text does not relate to the business description, category, or name, classify as Irrelevant.\n",
    "     - Check relevancy order:  \n",
    "       1. Compare review text with **description** (if available).  \n",
    "       2. Compare review text with **category** (if available).  \n",
    "       3. Compare review text with **business name** (always available).  \n",
    "     - Note: All reviews have category and name, but description may be missing.  \n",
    "     - Additional signal: Extreme star rating + vague/muffled comment → may indicate low relevancy.  \n",
    "\n",
    "4. **\"Rant_Without_Visit\"**  \n",
    "   The review is filled with anger or complaints, but the content explicitly states or strongly implies the user has never actually visited the location.  \n",
    "   - Check rant signals:  \n",
    "     - Contains phrases like \"never been\", \"haven’t visited\", \"I heard\", \"my friend told me\".  \n",
    "     - Review sentiment is strongly negative, but no direct experience is described.  \n",
    "     - Often accompanied by extreme star rating (e.g., 1⭐) with no supporting details.  \n",
    "\n",
    "---\n",
    "\n",
    "# Examples:\n",
    "The following are correctly classified examples. Please learn from them to guide your judgment.\n",
    "\n",
    "---\n",
    "# Input 1:\n",
    "{\n",
    "  \"business_name\": \"Mama's Pizzeria\",\n",
    "  \"rating\": 5,\n",
    "  \"text\": \"The pizza here is the best I've ever had! The staff was also very friendly, I will definitely come back again.\"\n",
    "}\n",
    "# Output 1:\n",
    "{\n",
    "  \"label\": \"Valid\",\n",
    "  \"reason\": \"The review describes a genuine dining experience at the location, and the 5-star rating is consistent with the positive text.\"\n",
    "}\n",
    "---\n",
    "# Input 2:\n",
    "{\n",
    "  \"business_name\": \"Burger Palace\",\n",
    "  \"rating\": 5,\n",
    "  \"text\": \"The best burger in town! Visit www.burgerpalacepromo.com now for a 20% discount!\"\n",
    "}\n",
    "# Output 2:\n",
    "{\n",
    "  \"label\": \"Advertisement\",\n",
    "  \"reason\": \"The review contains a promotional external link, despite the 5-star rating.\"\n",
    "}\n",
    "---\n",
    "# Input 3:\n",
    "{\n",
    "  \"business_name\": \"The Grand Library Cafe\",\n",
    "  \"rating\": 3,\n",
    "  \"text\": \"My new phone takes really clear pictures. By the way, this place is way too noisy.\"\n",
    "}\n",
    "# Output 3:\n",
    "{\n",
    "  \"label\": \"Irrelevant\",\n",
    "  \"reason\": \"The main subject of the review is a new phone, which is unrelated to the cafe.\"\n",
    "}\n",
    "---\n",
    "# Input 4:\n",
    "{\n",
    "  \"business_name\": \"City Central Parking\",\n",
    "  \"rating\": 1,\n",
    "  \"text\": \"I've never been here, but I read online that the owner is very rude. I'll never go!\"\n",
    "}\n",
    "# Output 4:\n",
    "{\n",
    "  \"label\": \"Rant_Without_Visit\",\n",
    "  \"reason\": \"The reviewer explicitly states they have never visited the location, and the 1-star rating reflects a strong negative sentiment based on hearsay.\"\n",
    "}\n",
    "---\n",
    "\n",
    "# Task Instructions:\n",
    "Now, strictly follow the above policies and examples to analyze and classify the following input JSON object.\n",
    "Your output must be a single, valid JSON object, perfectly matching the format of the examples.\n",
    "\n",
    "# Input JSON:\n",
    "{{json_input_string}}\n",
    "\n",
    "# Output JSON:\n",
    "\"\"\"\n"
   ]
  },
  {
   "cell_type": "code",
   "execution_count": null,
   "id": "0a68a73f",
   "metadata": {},
   "outputs": [],
   "source": [
    "load_dotenv()\n",
    "\n",
    "df = pd.read_csv(\"../data/out/reviews_with_places_1000_Oklahoma.csv\")\n",
    "\n",
    "results = []\n",
    "failed_rows = []\n",
    "client = OpenAI(\n",
    "        api_key=\"\",\n",
    "        base_url=\"https://dashscope.aliyuncs.com/compatible-mode/v1\",\n",
    ")\n"
   ]
  },
  {
   "cell_type": "code",
   "execution_count": 7,
   "id": "1118309d",
   "metadata": {},
   "outputs": [],
   "source": [
    "def process_single_row(row_data, max_retries=2):\n",
    "    \"\"\"\n",
    "    Processes a single row of data by sending it to an LLM API\n",
    "    and parsing the response.\n",
    "\n",
    "    Args:\n",
    "        row_data (tuple): A tuple containing the index and the row (as a pandas Series).\n",
    "        max_retries (int): Number of retries if the API call or parsing fails.\n",
    "\n",
    "    Returns:\n",
    "        dict or None: A dictionary with the processed result or None if an error occurs.\n",
    "    \"\"\"\n",
    "    index, row = row_data\n",
    "\n",
    "    review_data = {\n",
    "        \"business_name\": row[\"name_y\"],\n",
    "        \"rating\": int(row[\"rating\"]),\n",
    "        \"text\": row[\"text\"],\n",
    "        \"description\": row[\"description\"] if pd.notna(row[\"description\"]) else \"No description available\",\n",
    "        \"category\": row[\"category\"] if pd.notna(row[\"category\"]) else \"No category available\"\n",
    "    }\n",
    "    json_input_string = json.dumps(review_data, ensure_ascii=False)\n",
    "\n",
    "    for attempt in range(max_retries):\n",
    "        try:\n",
    "            # 1. Make the API call\n",
    "            completion = client.chat.completions.create(\n",
    "                model=\"claude-sonnet-4-20250514\",\n",
    "                messages=[\n",
    "                    {'role': 'system', 'content': ENGLSIH_SYS_PRMOPT}, \n",
    "                    {'role': 'user', 'content': json_input_string}\n",
    "                ],\n",
    "                response_format={\"type\": \"json_object\"},\n",
    "                max_tokens=512\n",
    "            )\n",
    "\n",
    "            # 2. Parse the response\n",
    "            raw_output = completion.choices[0].message.content.strip()\n",
    "            if not raw_output:\n",
    "                raise ValueError(\"空输出\")\n",
    "\n",
    "            llm_output = json.loads(raw_output)\n",
    "\n",
    "            # 3. Format the result\n",
    "            return {\n",
    "                \"business_name\": row[\"name_y\"],\n",
    "                \"text\": row[\"text\"],\n",
    "                \"predicted_label\": llm_output.get(\"label\"),\n",
    "                \"prediction_reason\": llm_output.get(\"reason\"),\n",
    "                \"description\": row[\"description\"] if pd.notna(row[\"description\"]) else \"\",\n",
    "                \"category\": row[\"category\"] if pd.notna(row[\"category\"]) else \"No category available\",\n",
    "            }\n",
    "\n",
    "        except Exception as e:\n",
    "            print(f\"Row {index + 1} attempt {attempt + 1} failed: {e}\")\n",
    "\n",
    "    # 如果所有尝试都失败，返回 None\n",
    "    return {\n",
    "        \"index\": index,\n",
    "        \"business_name\": row[\"name_y\"],\n",
    "        \"rating\": row[\"rating\"],\n",
    "        \"text\": row[\"text\"],\n",
    "        \"description\": row[\"description\"] if pd.notna(row[\"description\"]) else \"No description available\",\n",
    "        \"category\": row[\"category\"] if pd.notna(row[\"category\"]) else \"No category available\",\n",
    "        \"error\": \"Failed after retries\"\n",
    "    }\n",
    "\n"
   ]
  },
  {
   "cell_type": "code",
   "execution_count": null,
   "id": "5215554d",
   "metadata": {},
   "outputs": [
    {
     "name": "stderr",
     "output_type": "stream",
     "text": [
      "Processing reviews:   2%|▏         | 21/1000 [00:10<08:39,  1.88it/s]"
     ]
    },
    {
     "name": "stdout",
     "output_type": "stream",
     "text": [
      "Row 28 attempt 1 failed: Expecting value: line 1 column 1 (char 0)\n"
     ]
    },
    {
     "name": "stderr",
     "output_type": "stream",
     "text": [
      "Processing reviews:   3%|▎         | 34/1000 [00:17<09:09,  1.76it/s]"
     ]
    },
    {
     "name": "stdout",
     "output_type": "stream",
     "text": [
      "Row 36 attempt 1 failed: Expecting value: line 1 column 1 (char 0)\n"
     ]
    },
    {
     "name": "stderr",
     "output_type": "stream",
     "text": [
      "Processing reviews:   4%|▍         | 40/1000 [00:20<07:18,  2.19it/s]"
     ]
    },
    {
     "name": "stdout",
     "output_type": "stream",
     "text": [
      "Row 20 attempt 1 failed: Expecting value: line 1 column 1 (char 0)\n"
     ]
    },
    {
     "name": "stderr",
     "output_type": "stream",
     "text": [
      "Processing reviews:  11%|█         | 112/1000 [00:48<06:53,  2.15it/s]"
     ]
    },
    {
     "name": "stdout",
     "output_type": "stream",
     "text": [
      "Row 111 attempt 1 failed: Expecting value: line 1 column 1 (char 0)\n"
     ]
    },
    {
     "name": "stderr",
     "output_type": "stream",
     "text": [
      "Processing reviews:  20%|█▉        | 197/1000 [01:22<03:21,  3.98it/s]"
     ]
    },
    {
     "name": "stdout",
     "output_type": "stream",
     "text": [
      "Row 199 attempt 1 failed: Expecting value: line 1 column 1 (char 0)\n",
      "Row 201 attempt 1 failed: Expecting value: line 1 column 1 (char 0)\n"
     ]
    },
    {
     "name": "stderr",
     "output_type": "stream",
     "text": [
      "Processing reviews:  26%|██▌       | 262/1000 [01:52<06:03,  2.03it/s]"
     ]
    },
    {
     "name": "stdout",
     "output_type": "stream",
     "text": [
      "Row 267 attempt 1 failed: Expecting value: line 1 column 1 (char 0)\n"
     ]
    },
    {
     "name": "stderr",
     "output_type": "stream",
     "text": [
      "Processing reviews:  32%|███▏      | 322/1000 [02:19<04:24,  2.56it/s]"
     ]
    },
    {
     "name": "stdout",
     "output_type": "stream",
     "text": [
      "Row 324 attempt 1 failed: Expecting value: line 1 column 1 (char 0)\n"
     ]
    },
    {
     "name": "stderr",
     "output_type": "stream",
     "text": [
      "Processing reviews:  37%|███▋      | 373/1000 [02:42<03:28,  3.01it/s]"
     ]
    },
    {
     "name": "stdout",
     "output_type": "stream",
     "text": [
      "Row 376 attempt 1 failed: Expecting value: line 1 column 1 (char 0)\n"
     ]
    },
    {
     "name": "stderr",
     "output_type": "stream",
     "text": [
      "Processing reviews:  38%|███▊      | 379/1000 [02:45<03:14,  3.19it/s]"
     ]
    },
    {
     "name": "stdout",
     "output_type": "stream",
     "text": [
      "Row 358 attempt 1 failed: Expecting value: line 1 column 1 (char 0)\n"
     ]
    },
    {
     "name": "stderr",
     "output_type": "stream",
     "text": [
      "Processing reviews:  41%|████▏     | 414/1000 [02:59<03:31,  2.77it/s]"
     ]
    },
    {
     "name": "stdout",
     "output_type": "stream",
     "text": [
      "Row 399 attempt 1 failed: Expecting value: line 1 column 1 (char 0)\n"
     ]
    },
    {
     "name": "stderr",
     "output_type": "stream",
     "text": [
      "Processing reviews:  53%|█████▎    | 533/1000 [03:50<05:05,  1.53it/s]"
     ]
    }
   ],
   "source": [
    "results = []\n",
    "# Prepare tasks by creating a list of tuples, each containing an index and a row\n",
    "tasks_to_run = list(df.iterrows())\n",
    "\n",
    "# Set the number of concurrent workers. Adjust this based on your system and API rate limits.\n",
    "CONCURRENCY = 10 \n",
    "\n",
    "with ThreadPoolExecutor(max_workers=CONCURRENCY) as executor:\n",
    "    # Submit all tasks to the executor\n",
    "    futures = [executor.submit(process_single_row, task) for task in tasks_to_run]\n",
    "\n",
    "    # Process futures as they complete and show a progress bar\n",
    "    for future in tqdm(as_completed(futures), total=len(tasks_to_run), desc=\"Processing reviews\"):\n",
    "        result = future.result()\n",
    "        # Only append successful results to the list\n",
    "        if result:\n",
    "            results.append(result)\n",
    "\n",
    "# Convert the list of results into a new DataFrame\n",
    "results_df = pd.DataFrame(results)\n"
   ]
  },
  {
   "cell_type": "code",
   "execution_count": null,
   "id": "50f71e22",
   "metadata": {},
   "outputs": [],
   "source": [
    "# Save the results to a CSV file\n",
    "results_df.to_csv(\"../data/out/label_reviews_Oklahoma.csv\", index=False)\n"
   ]
  }
 ],
 "metadata": {
  "kernelspec": {
   "display_name": "myenv (3.13.1)",
   "language": "python",
   "name": "python3"
  },
  "language_info": {
   "codemirror_mode": {
    "name": "ipython",
    "version": 3
   },
   "file_extension": ".py",
   "mimetype": "text/x-python",
   "name": "python",
   "nbconvert_exporter": "python",
   "pygments_lexer": "ipython3",
   "version": "3.13.1"
  }
 },
 "nbformat": 4,
 "nbformat_minor": 5
}

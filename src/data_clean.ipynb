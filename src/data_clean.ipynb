{
 "cells": [
  {
   "cell_type": "code",
   "execution_count": 1,
   "id": "494a4b4a",
   "metadata": {},
   "outputs": [],
   "source": [
    "import os\n",
    "import json\n",
    "import pandas as pd\n",
    "from openai import OpenAI\n",
    "import random\n",
    "from tqdm import tqdm\n"
   ]
  },
  {
   "cell_type": "code",
   "execution_count": null,
   "id": "07c9ac5c",
   "metadata": {},
   "outputs": [],
   "source": [
    "def sample_reviews(path, n=1000, seed=42):\n",
    "    # 第一次遍历，统计总行数\n",
    "    with open(path, 'rt', encoding='utf-8') as f:\n",
    "        total_lines = sum(1 for _ in f)\n",
    "\n",
    "    reviews = []\n",
    "    # 第二次遍历，显示进度条\n",
    "    with open(path, 'rt', encoding='utf-8') as f:\n",
    "        for line in tqdm(f, total=total_lines, desc=\"Processing reviews\"):\n",
    "            try:\n",
    "                review = json.loads(line)\n",
    "                if review.get(\"text\") and review[\"text\"].strip():  # 过滤掉空评论\n",
    "                    reviews.append(review)\n",
    "            except json.JSONDecodeError:\n",
    "                continue  # 避免坏行报错\n",
    "\n",
    "    print(f\"总评论数: {len(reviews)}\")\n",
    "\n",
    "    # 固定随机种子，保证结果可复现\n",
    "    random.seed(seed)\n",
    "    sampled = random.sample(reviews, min(n, len(reviews)))\n",
    "    return sampled\n"
   ]
  },
  {
   "cell_type": "code",
   "execution_count": null,
   "id": "9e5a3fdd",
   "metadata": {},
   "outputs": [],
   "source": [
    "sampled_reviews = sample_reviews(\"data/review-Montana_10.json\", n=1000)\n",
    "\n",
    "# 转换成 DataFrame 并保存\n",
    "df = pd.DataFrame(sampled_reviews)\n",
    "df[\"review_length\"] = df[\"text\"].apply(lambda x: len(str(x).split()))"
   ]
  },
  {
   "cell_type": "code",
   "execution_count": null,
   "id": "50390f97",
   "metadata": {},
   "outputs": [],
   "source": [
    "reviews_df = df\n",
    "places_data = []\n",
    "with open(\"data/meta-Montana.json\", \"rt\", encoding=\"utf-8\") as f:\n",
    "    for i, line in enumerate(f, start=1):\n",
    "        try:\n",
    "            places_data.append(json.loads(line))\n",
    "        except json.JSONDecodeError:\n",
    "            print(f\"⚠️ 跳过坏行 {i}\")\n",
    "            continue\n",
    "\n",
    "places_df = pd.DataFrame(places_data)"
   ]
  },
  {
   "cell_type": "code",
   "execution_count": null,
   "id": "8d6a7be1",
   "metadata": {},
   "outputs": [],
   "source": [
    "# 确认 gmap_id 在两个表里都是字符串\n",
    "reviews_df['gmap_id'] = reviews_df['gmap_id'].astype(str)\n",
    "places_df['gmap_id'] = places_df['gmap_id'].astype(str)\n",
    "\n",
    "# inner join（只保留两个表都有 gmap_id 的）\n",
    "merged_df = reviews_df.merge(\n",
    "    places_df.drop_duplicates(subset=[\"gmap_id\"])\n",
    "    , on=\"gmap_id\", how=\"left\")\n",
    "\n",
    "print(f\"合并后数据量: {len(merged_df)}\")"
   ]
  },
  {
   "cell_type": "code",
   "execution_count": null,
   "id": "81486d86",
   "metadata": {},
   "outputs": [],
   "source": [
    "# 保存结果\n",
    "merged_df.to_csv(\"data/reviews_with_places_1000_Montana.csv\", index=False)\n",
    "print(\"已保存 reviews_with_places_1000_Montana.csv\")"
   ]
  },
  {
   "cell_type": "code",
   "execution_count": null,
   "id": "4b6c0d6c",
   "metadata": {},
   "outputs": [],
   "source": [
    "# 检查 description 列的缺失情况\n",
    "print(\"总行数:\", len(df))\n",
    "print(\"description 缺失数量:\", df['description'].isnull().sum())\n",
    "print(\"description 非缺失数量:\", df['description'].notnull().sum())"
   ]
  },
  {
   "cell_type": "markdown",
   "id": "a8f2d529",
   "metadata": {},
   "source": [
    "<h1>清理merge数据</h1>"
   ]
  },
  {
   "cell_type": "code",
   "execution_count": 7,
   "id": "c614caeb",
   "metadata": {},
   "outputs": [
    {
     "name": "stdout",
     "output_type": "stream",
     "text": [
      "Current working directory: /Users/yuanyusi/Desktop/ML-for-Trustworthy-Location-Reviews/src\n",
      "Files in current directory: ['filter_invalid.py', 'merge.py', 'data_clean.py', 'data_clean.ipynb', 'prompt_labelling.ipynb', 'merge_all.ipynb', 'prompt_labelling.py']\n"
     ]
    }
   ],
   "source": [
    "import os\n",
    "print(\"Current working directory:\", os.getcwd())\n",
    "print(\"Files in current directory:\", os.listdir('.'))"
   ]
  },
  {
   "cell_type": "code",
   "execution_count": 15,
   "id": "c58afb08",
   "metadata": {},
   "outputs": [],
   "source": [
    "# clean merged data.\n",
    "df = pd.read_csv(\"../data/out/merged_all.csv\")"
   ]
  },
  {
   "cell_type": "code",
   "execution_count": null,
   "id": "0529eea0",
   "metadata": {},
   "outputs": [],
   "source": [
    "df = df.drop(columns=['name', 'index', 'rating', 'error'])\n",
    "df = df[df['predicted_label'] != \"\"]"
   ]
  },
  {
   "cell_type": "code",
   "execution_count": 17,
   "id": "3d69c1ca",
   "metadata": {},
   "outputs": [],
   "source": [
    "df.to_csv(\"../data/out/merged_all.csv\", index=False)"
   ]
  }
 ],
 "metadata": {
  "kernelspec": {
   "display_name": "myenv (3.13.1)",
   "language": "python",
   "name": "python3"
  },
  "language_info": {
   "codemirror_mode": {
    "name": "ipython",
    "version": 3
   },
   "file_extension": ".py",
   "mimetype": "text/x-python",
   "name": "python",
   "nbconvert_exporter": "python",
   "pygments_lexer": "ipython3",
   "version": "3.13.1"
  }
 },
 "nbformat": 4,
 "nbformat_minor": 5
}

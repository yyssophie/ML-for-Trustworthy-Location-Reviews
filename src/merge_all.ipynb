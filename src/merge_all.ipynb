{
 "cells": [
  {
   "cell_type": "code",
   "execution_count": 1,
   "id": "0b90cd60",
   "metadata": {},
   "outputs": [],
   "source": [
    "import os\n",
    "import pandas as pd\n",
    "import glob"
   ]
  },
  {
   "cell_type": "code",
   "execution_count": 3,
   "id": "41678497",
   "metadata": {},
   "outputs": [
    {
     "name": "stdout",
     "output_type": "stream",
     "text": [
      "找到 9 个 CSV 文件\n"
     ]
    }
   ],
   "source": [
    "folder_path = \"../data/label_data_with_cnd\" \n",
    "all_files = glob.glob(os.path.join(folder_path, \"*.csv\"))\n",
    "\n",
    "print(f\"找到 {len(all_files)} 个 CSV 文件\")"
   ]
  },
  {
   "cell_type": "code",
   "execution_count": 4,
   "id": "778efbf4",
   "metadata": {},
   "outputs": [
    {
     "name": "stdout",
     "output_type": "stream",
     "text": [
      "已合并所有 CSV 文件并保存为 data/merged_all.csv\n"
     ]
    }
   ],
   "source": [
    "dfs = [pd.read_csv(f) for f in all_files]\n",
    "merged_df = pd.concat(dfs, ignore_index=True)\n",
    "merged_df.to_csv(\"../data/merged_all.csv\", index=False)\n",
    "print(\"已合并所有 CSV 文件并保存为 data/merged_all.csv\")"
   ]
  }
 ],
 "metadata": {
  "kernelspec": {
   "display_name": "myenv (3.13.1)",
   "language": "python",
   "name": "python3"
  },
  "language_info": {
   "codemirror_mode": {
    "name": "ipython",
    "version": 3
   },
   "file_extension": ".py",
   "mimetype": "text/x-python",
   "name": "python",
   "nbconvert_exporter": "python",
   "pygments_lexer": "ipython3",
   "version": "3.13.1"
  }
 },
 "nbformat": 4,
 "nbformat_minor": 5
}

{
 "cells": [
  {
   "cell_type": "code",
   "execution_count": 6,
   "id": "bf39d732",
   "metadata": {},
   "outputs": [
    {
     "name": "stdout",
     "output_type": "stream",
     "text": [
      "71\n"
     ]
    }
   ],
   "source": [
    "import pandas as pd\n",
    "import random\n",
    "seed=random.randint(0,100)\n",
    "print(seed)"
   ]
  },
  {
   "cell_type": "code",
   "execution_count": 7,
   "id": "2e983481",
   "metadata": {},
   "outputs": [
    {
     "data": {
      "text/plain": [
       "predicted_label\n",
       "Valid                 7681\n",
       "Irrelevant             280\n",
       "Rant_Without_Visit      22\n",
       "Advertisement           13\n",
       "Name: count, dtype: int64"
      ]
     },
     "execution_count": 7,
     "metadata": {},
     "output_type": "execute_result"
    }
   ],
   "source": [
    "df=pd.read_csv('../data/label_data_with_cnd/merged_all.csv')\n",
    "df = df.dropna(subset=[\"predicted_label\"])\n",
    "df = df[df[\"predicted_label\"].str.strip() != \"\"]\n",
    "df['predicted_label'].value_counts()"
   ]
  },
  {
   "cell_type": "code",
   "execution_count": 8,
   "id": "ca5be61d",
   "metadata": {},
   "outputs": [
    {
     "name": "stdout",
     "output_type": "stream",
     "text": [
      "predicted_label\n",
      "Valid                 300\n",
      "Irrelevant            280\n",
      "Rant_Without_Visit     22\n",
      "Advertisement          13\n",
      "Name: count, dtype: int64\n"
     ]
    }
   ],
   "source": [
    "# Separate the DataFrame into 'valid' and 'non-valid' rows.\n",
    "df_valid = df[df['predicted_label'] == 'Valid']\n",
    "df_other = df[df['predicted_label'] != 'Valid']\n",
    "\n",
    "# Randomly sample 300 rows from the 'valid' DataFrame.\n",
    "df_valid_sampled = df_valid.sample(n=300, random_state=seed)\n",
    "\n",
    "# Concatenate the sampled 'valid' rows with the 'non-valid' rows.\n",
    "df = pd.concat([df_valid_sampled, df_other])\n",
    "\n",
    "# Print the value counts of the updated DataFrame.\n",
    "print(df['predicted_label'].value_counts())"
   ]
  },
  {
   "cell_type": "code",
   "execution_count": null,
   "id": "82511900",
   "metadata": {},
   "outputs": [],
   "source": []
  },
  {
   "cell_type": "code",
   "execution_count": 9,
   "id": "91653580",
   "metadata": {},
   "outputs": [
    {
     "name": "stdout",
     "output_type": "stream",
     "text": [
      "Unmapped labels: 0\n"
     ]
    }
   ],
   "source": [
    "tag_mapping_dict = {\n",
    "    'Valid': 0,\n",
    "    'Advertisement': 1,\n",
    "    'Irrelevant': 2,\n",
    "    'Rant_Without_Visit': 3,\n",
    "}\n",
    "\n",
    "df['label'] = df['predicted_label'].map(tag_mapping_dict)\n",
    "\n",
    "\n",
    "# REPLACE this:\n",
    "# df[df['label']==None]\n",
    "# WITH:\n",
    "missing = df['label'].isna()\n",
    "print(\"Unmapped labels:\", int(missing.sum()))\n",
    "assert missing.sum() == 0, \"Found unmapped labels in predicted_label\"\n"
   ]
  },
  {
   "cell_type": "code",
   "execution_count": 14,
   "id": "19ef9453",
   "metadata": {},
   "outputs": [
    {
     "data": {
      "text/html": [
       "<div>\n",
       "<style scoped>\n",
       "    .dataframe tbody tr th:only-of-type {\n",
       "        vertical-align: middle;\n",
       "    }\n",
       "\n",
       "    .dataframe tbody tr th {\n",
       "        vertical-align: top;\n",
       "    }\n",
       "\n",
       "    .dataframe thead th {\n",
       "        text-align: right;\n",
       "    }\n",
       "</style>\n",
       "<table border=\"1\" class=\"dataframe\">\n",
       "  <thead>\n",
       "    <tr style=\"text-align: right;\">\n",
       "      <th></th>\n",
       "      <th>business_name</th>\n",
       "      <th>text</th>\n",
       "      <th>predicted_label</th>\n",
       "      <th>prediction_reason</th>\n",
       "      <th>name</th>\n",
       "      <th>description</th>\n",
       "      <th>category</th>\n",
       "      <th>index</th>\n",
       "      <th>rating</th>\n",
       "      <th>error</th>\n",
       "      <th>label</th>\n",
       "      <th>review_info_json</th>\n",
       "    </tr>\n",
       "  </thead>\n",
       "  <tbody>\n",
       "    <tr>\n",
       "      <th>2242</th>\n",
       "      <td>Food 4 Less</td>\n",
       "      <td>The price is right, good location easy access.</td>\n",
       "      <td>Valid</td>\n",
       "      <td>The review describes a genuine experience at t...</td>\n",
       "      <td>Food 4 Less</td>\n",
       "      <td>No-frills supermarket chain stocking a wide se...</td>\n",
       "      <td>['Grocery store', 'Propane supplier']</td>\n",
       "      <td>NaN</td>\n",
       "      <td>NaN</td>\n",
       "      <td>NaN</td>\n",
       "      <td>0</td>\n",
       "      <td>{'business_name': 'Food 4 Less', 'business_des...</td>\n",
       "    </tr>\n",
       "    <tr>\n",
       "      <th>3585</th>\n",
       "      <td>Meg-A-Latte | Coffee House</td>\n",
       "      <td>The staff are always friendly and their flavor...</td>\n",
       "      <td>Valid</td>\n",
       "      <td>The review describes a genuine experience at t...</td>\n",
       "      <td>Meg-A-Latte | Coffee House</td>\n",
       "      <td>NaN</td>\n",
       "      <td>['Coffee shop']</td>\n",
       "      <td>NaN</td>\n",
       "      <td>NaN</td>\n",
       "      <td>NaN</td>\n",
       "      <td>0</td>\n",
       "      <td>{'business_name': 'Meg-A-Latte | Coffee House'...</td>\n",
       "    </tr>\n",
       "  </tbody>\n",
       "</table>\n",
       "</div>"
      ],
      "text/plain": [
       "                   business_name  \\\n",
       "2242                 Food 4 Less   \n",
       "3585  Meg-A-Latte | Coffee House   \n",
       "\n",
       "                                                   text predicted_label  \\\n",
       "2242     The price is right, good location easy access.           Valid   \n",
       "3585  The staff are always friendly and their flavor...           Valid   \n",
       "\n",
       "                                      prediction_reason  \\\n",
       "2242  The review describes a genuine experience at t...   \n",
       "3585  The review describes a genuine experience at t...   \n",
       "\n",
       "                            name  \\\n",
       "2242                 Food 4 Less   \n",
       "3585  Meg-A-Latte | Coffee House   \n",
       "\n",
       "                                            description  \\\n",
       "2242  No-frills supermarket chain stocking a wide se...   \n",
       "3585                                                NaN   \n",
       "\n",
       "                                   category  index  rating error  label  \\\n",
       "2242  ['Grocery store', 'Propane supplier']    NaN     NaN   NaN      0   \n",
       "3585                        ['Coffee shop']    NaN     NaN   NaN      0   \n",
       "\n",
       "                                       review_info_json  \n",
       "2242  {'business_name': 'Food 4 Less', 'business_des...  \n",
       "3585  {'business_name': 'Meg-A-Latte | Coffee House'...  "
      ]
     },
     "execution_count": 14,
     "metadata": {},
     "output_type": "execute_result"
    }
   ],
   "source": [
    "df.head(2)"
   ]
  },
  {
   "cell_type": "code",
   "execution_count": null,
   "id": "52ef419a",
   "metadata": {},
   "outputs": [
    {
     "data": {
      "text/plain": [
       "'{\\'business_name\\': \\'Food 4 Less\\', \\'business_description\\': \\'No-frills supermarket chain stocking a wide selection of bulk grocery items, produce & more.\\', \\'reviewed_category\\': \"[\\'Grocery store\\', \\'Propane supplier\\']\", \\'review_text\\': \\'{\\\\\\'business_name\\\\\\': \\\\\\'Food 4 Less\\\\\\', \\\\\\'business_description\\\\\\': \\\\\\'No-frills supermarket chain stocking a wide selection of bulk grocery items, produce & more.\\\\\\', \\\\\\'reviewed_category\\\\\\': \"[\\\\\\'Grocery store\\\\\\', \\\\\\'Propane supplier\\\\\\']\", \\\\\\'review_text\\\\\\': \\\\\\'{\\\\\\\\\\\\\\'business_name\\\\\\\\\\\\\\': \\\\\\\\\\\\\\'Food 4 Less\\\\\\\\\\\\\\', \\\\\\\\\\\\\\'business_description\\\\\\\\\\\\\\': \\\\\\\\\\\\\\'No-frills supermarket chain stocking a wide selection of bulk grocery items, produce & more.\\\\\\\\\\\\\\', \\\\\\\\\\\\\\'reviewed_category\\\\\\\\\\\\\\': \"[\\\\\\\\\\\\\\'Grocery store\\\\\\\\\\\\\\', \\\\\\\\\\\\\\'Propane supplier\\\\\\\\\\\\\\']\", \\\\\\\\\\\\\\'review_text\\\\\\\\\\\\\\': \\\\\\\\\\\\\\'The price is right, good location easy access.\\\\\\\\\\\\\\'}\\\\\\'}\\'}'"
      ]
     },
     "execution_count": 25,
     "metadata": {},
     "output_type": "execute_result"
    }
   ],
   "source": [
    "PROMPT_PREFIX=\"\"\"\n",
    "You are a top-tier content moderation expert specializing in the evaluation of Google Maps location reviews. \n",
    "Your task is to parse a JSON object containing review data and accurately classify it according to the following policies and rules.\n",
    "\"\"\"\n",
    "\n",
    "def create_json_from_row(row):\n",
    "    \"\"\"\n",
    "    Converts a DataFrame row into a JSON-formatted string.\n",
    "    \"\"\"\n",
    "    json_object = {\n",
    "        \"business_name\": row[\"business_name\"],\n",
    "        \"business_description\": row[\"description\"],\n",
    "        \"reviewed_category\": row[\"category\"],\n",
    "        \"review_text\": row[\"text\"],\n",
    "        # \"review_length\": len(row[\"text\"]),\n",
    "    }\n",
    "    return str(json_object)\n",
    "    # return PROMPT_PREFIX+str(json_object)\n",
    "\n",
    "df['text'] = df.apply(create_json_from_row, axis=1)\n",
    "df['text']\n"
   ]
  },
  {
   "cell_type": "code",
   "execution_count": 26,
   "id": "e098b4cd",
   "metadata": {},
   "outputs": [],
   "source": [
    "df_filtered = df.loc[:, ['text', 'label']]"
   ]
  },
  {
   "cell_type": "code",
   "execution_count": 27,
   "id": "23e31cd7",
   "metadata": {},
   "outputs": [
    {
     "name": "stdout",
     "output_type": "stream",
     "text": [
      "DatasetDict({\n",
      "    train: Dataset({\n",
      "        features: ['text', 'label'],\n",
      "        num_rows: 553\n",
      "    })\n",
      "    validation: Dataset({\n",
      "        features: ['text', 'label'],\n",
      "        num_rows: 62\n",
      "    })\n",
      "})\n"
     ]
    }
   ],
   "source": [
    "from datasets import Dataset, DatasetDict\n",
    "from sklearn.model_selection import train_test_split\n",
    "\n",
    "train_df, val_df = train_test_split(\n",
    "    df_filtered[['text','label']],\n",
    "    test_size=0.1,\n",
    "    random_state=seed,\n",
    "    stratify=df_filtered['label']\n",
    ")\n",
    "\n",
    "train_dataset = Dataset.from_pandas(train_df.reset_index(drop=True))\n",
    "val_dataset   = Dataset.from_pandas(val_df.reset_index(drop=True))\n",
    "\n",
    "my_dataset_dict = DatasetDict({\n",
    "    'train': train_dataset,\n",
    "    'validation': val_dataset\n",
    "}).remove_columns([])  # nothing to drop now\n",
    "\n",
    "print(my_dataset_dict)\n"
   ]
  },
  {
   "cell_type": "code",
   "execution_count": 28,
   "id": "810bd6bc",
   "metadata": {},
   "outputs": [
    {
     "data": {
      "text/plain": [
       "label\n",
       "0    30\n",
       "2    28\n",
       "1     2\n",
       "3     2\n",
       "Name: count, dtype: int64"
      ]
     },
     "execution_count": 28,
     "metadata": {},
     "output_type": "execute_result"
    }
   ],
   "source": [
    "val_df['label'].value_counts()"
   ]
  },
  {
   "cell_type": "code",
   "execution_count": 29,
   "id": "2c5b29bf",
   "metadata": {},
   "outputs": [],
   "source": [
    "# gpu usage\n",
    "import os\n",
    "os.environ[\"CUDA_VISIBLE_DEVICES\"] = \"1,2,3\""
   ]
  },
  {
   "cell_type": "code",
   "execution_count": 30,
   "id": "927b6493",
   "metadata": {},
   "outputs": [
    {
     "name": "stdout",
     "output_type": "stream",
     "text": [
      "GPU is available. Device count: 3\n",
      "Current device: 0\n",
      "Device name: NVIDIA L40S\n"
     ]
    }
   ],
   "source": [
    "import torch\n",
    "\n",
    "if torch.cuda.is_available():\n",
    "    print(f\"GPU is available. Device count: {torch.cuda.device_count()}\")\n",
    "    print(f\"Current device: {torch.cuda.current_device()}\")\n",
    "    print(f\"Device name: {torch.cuda.get_device_name(torch.cuda.current_device())}\")\n",
    "    device = torch.device(\"cuda\")\n",
    "else:\n",
    "    print(\"No GPU available, using CPU.\")\n",
    "    device = torch.device(\"cpu\")"
   ]
  },
  {
   "cell_type": "code",
   "execution_count": 31,
   "id": "6215ea66",
   "metadata": {},
   "outputs": [
    {
     "name": "stderr",
     "output_type": "stream",
     "text": [
      "Map: 100%|██████████| 553/553 [00:00<00:00, 2320.13 examples/s]\n",
      "Map: 100%|██████████| 62/62 [00:00<00:00, 4815.24 examples/s]\n"
     ]
    }
   ],
   "source": [
    "from transformers import AutoTokenizer, DataCollatorWithPadding\n",
    "\n",
    "checkpoint = \"bert-base-uncased\"\n",
    "tokenizer = AutoTokenizer.from_pretrained(checkpoint)\n",
    "\n",
    "INSTRUCTION = (\n",
    "    \"Task: classify review for THIS business. \"\n",
    "    \"Labels: Valid, Advertisement, Irrelevant, Rant_Without_Visit. \"\n",
    "    \"Priority: Ad > Irrelevant > No-visit rant > Valid.\"\n",
    ")\n",
    "\n",
    "def tokenize_function(example):\n",
    "    texts = example[\"text\"]\n",
    "    # texts is a list when batched=True; replicate the instruction to match length\n",
    "    instr = [INSTRUCTION] * len(texts)\n",
    "    return tokenizer(instr, texts, truncation=True, max_length=256)\n",
    "\n",
    "\n",
    "tokenized_datasets = my_dataset_dict.map(tokenize_function, batched=True)\n",
    "data_collator = DataCollatorWithPadding(tokenizer=tokenizer)\n",
    "\n",
    "# drop any raw columns that may exist (prompted_text OR text, and any index col)\n",
    "cols_to_drop = [c for c in tokenized_datasets[\"train\"].column_names \n",
    "                if c in [\"prompted_text\", \"text\", \"__index_level_0__\"]]\n",
    "if cols_to_drop:\n",
    "    tokenized_datasets = tokenized_datasets.remove_columns(cols_to_drop)\n",
    "\n"
   ]
  },
  {
   "cell_type": "code",
   "execution_count": 32,
   "id": "f1300ea3",
   "metadata": {},
   "outputs": [
    {
     "name": "stderr",
     "output_type": "stream",
     "text": [
      "Some weights of BertForSequenceClassification were not initialized from the model checkpoint at bert-base-uncased and are newly initialized: ['classifier.bias', 'classifier.weight']\n",
      "You should probably TRAIN this model on a down-stream task to be able to use it for predictions and inference.\n",
      "/home/zhangguibin/anaconda3/envs/dra_ykm/lib/python3.11/site-packages/torch/nn/parallel/_functions.py:71: UserWarning: Was asked to gather along dimension 0, but all input tensors were scalars; will instead unsqueeze and return a vector.\n",
      "  warnings.warn(\n"
     ]
    },
    {
     "data": {
      "text/html": [
       "\n",
       "    <div>\n",
       "      \n",
       "      <progress value='36' max='36' style='width:300px; height:20px; vertical-align: middle;'></progress>\n",
       "      [36/36 00:13, Epoch 3/3]\n",
       "    </div>\n",
       "    <table border=\"1\" class=\"dataframe\">\n",
       "  <thead>\n",
       " <tr style=\"text-align: left;\">\n",
       "      <th>Epoch</th>\n",
       "      <th>Training Loss</th>\n",
       "      <th>Validation Loss</th>\n",
       "      <th>Accuracy</th>\n",
       "      <th>F1 Weighted</th>\n",
       "      <th>F1 Macro</th>\n",
       "    </tr>\n",
       "  </thead>\n",
       "  <tbody>\n",
       "    <tr>\n",
       "      <td>1</td>\n",
       "      <td>0.991800</td>\n",
       "      <td>0.956041</td>\n",
       "      <td>0.483871</td>\n",
       "      <td>0.315568</td>\n",
       "      <td>0.163043</td>\n",
       "    </tr>\n",
       "    <tr>\n",
       "      <td>2</td>\n",
       "      <td>0.904300</td>\n",
       "      <td>0.872912</td>\n",
       "      <td>0.629032</td>\n",
       "      <td>0.606722</td>\n",
       "      <td>0.323776</td>\n",
       "    </tr>\n",
       "    <tr>\n",
       "      <td>3</td>\n",
       "      <td>0.879700</td>\n",
       "      <td>0.875558</td>\n",
       "      <td>0.612903</td>\n",
       "      <td>0.592486</td>\n",
       "      <td>0.316463</td>\n",
       "    </tr>\n",
       "  </tbody>\n",
       "</table><p>"
      ],
      "text/plain": [
       "<IPython.core.display.HTML object>"
      ]
     },
     "metadata": {},
     "output_type": "display_data"
    },
    {
     "name": "stderr",
     "output_type": "stream",
     "text": [
      "/home/zhangguibin/anaconda3/envs/dra_ykm/lib/python3.11/site-packages/torch/nn/parallel/_functions.py:71: UserWarning: Was asked to gather along dimension 0, but all input tensors were scalars; will instead unsqueeze and return a vector.\n",
      "  warnings.warn(\n",
      "/home/zhangguibin/anaconda3/envs/dra_ykm/lib/python3.11/site-packages/torch/nn/parallel/_functions.py:71: UserWarning: Was asked to gather along dimension 0, but all input tensors were scalars; will instead unsqueeze and return a vector.\n",
      "  warnings.warn(\n"
     ]
    },
    {
     "data": {
      "text/plain": [
       "TrainOutput(global_step=36, training_loss=1.0138625254233677, metrics={'train_runtime': 14.8343, 'train_samples_per_second': 111.836, 'train_steps_per_second': 2.427, 'total_flos': 218254539589632.0, 'train_loss': 1.0138625254233677, 'epoch': 3.0})"
      ]
     },
     "execution_count": 32,
     "metadata": {},
     "output_type": "execute_result"
    }
   ],
   "source": [
    "from transformers import AutoModelForSequenceClassification, TrainingArguments, Trainer\n",
    "from sklearn.metrics import accuracy_score, f1_score\n",
    "import numpy as np\n",
    "\n",
    "model = AutoModelForSequenceClassification.from_pretrained(checkpoint, num_labels=4)\n",
    "\n",
    "# 简单评估指标（最小改动）\n",
    "def compute_metrics(eval_pred):\n",
    "    logits, labels = eval_pred\n",
    "    preds = np.argmax(logits, axis=-1)\n",
    "    return {\n",
    "        \"accuracy\": accuracy_score(labels, preds),\n",
    "        \"f1_weighted\": f1_score(labels, preds, average=\"weighted\", zero_division=0),\n",
    "        \"f1_macro\": f1_score(labels, preds, average=\"macro\", zero_division=0),\n",
    "    }\n",
    "\n",
    "# 2. 设置训练参数\n",
    "training_args = TrainingArguments(\n",
    "    output_dir=f\"./results/{checkpoint}\",\n",
    "    num_train_epochs=3,\n",
    "    per_device_train_batch_size=16,\n",
    "    per_device_eval_batch_size=64,\n",
    "    warmup_ratio=0.1,\n",
    "    weight_decay=0.01,\n",
    "    logging_dir=\"./logs\",\n",
    "    # Add these two lines to show training loss\n",
    "    logging_strategy=\"steps\",\n",
    "    logging_steps=1,  # Log every 50 steps, you can adjust this value\n",
    "    fp16=True,\n",
    "    eval_strategy=\"epoch\",\n",
    "    save_strategy=\"epoch\",\n",
    "    load_best_model_at_end=True,\n",
    "    metric_for_best_model=\"f1_macro\",\n",
    "    greater_is_better=True,\n",
    ")\n",
    "\n",
    "# 假设你已经准备好了 tokenized_datasets\n",
    "# tokenized_datasets['train'], tokenized_datasets['test']\n",
    "\n",
    "# 3. 初始化 Trainer\n",
    "trainer = Trainer(\n",
    "    model=model,                                   # 模型会被自动移动到GPU\n",
    "    args=training_args,                            # 训练参数\n",
    "    train_dataset=tokenized_datasets['train'],\n",
    "    eval_dataset=tokenized_datasets[\"validation\"],\n",
    "    data_collator=data_collator,\n",
    "    processing_class=tokenizer,                           # （替换 processing_class）\n",
    "    compute_metrics=compute_metrics,               # 增加评估指标\n",
    ")\n",
    "\n",
    "# 4. 开始训练\n",
    "#    在调用 .train() 时，每一批数据也会被自动发送到GPU\n",
    "trainer.train()\n"
   ]
  },
  {
   "cell_type": "code",
   "execution_count": 33,
   "id": "bd0fb57b",
   "metadata": {},
   "outputs": [
    {
     "name": "stderr",
     "output_type": "stream",
     "text": [
      "/home/zhangguibin/anaconda3/envs/dra_ykm/lib/python3.11/site-packages/torch/nn/parallel/_functions.py:71: UserWarning: Was asked to gather along dimension 0, but all input tensors were scalars; will instead unsqueeze and return a vector.\n",
      "  warnings.warn(\n"
     ]
    },
    {
     "data": {
      "text/html": [],
      "text/plain": [
       "<IPython.core.display.HTML object>"
      ]
     },
     "metadata": {},
     "output_type": "display_data"
    },
    {
     "name": "stdout",
     "output_type": "stream",
     "text": [
      "                    precision    recall  f1-score   support\n",
      "\n",
      "             Valid      0.629     0.733     0.677        30\n",
      "     Advertisement      0.000     0.000     0.000         2\n",
      "        Irrelevant      0.630     0.607     0.618        28\n",
      "Rant_Without_Visit      0.000     0.000     0.000         2\n",
      "\n",
      "          accuracy                          0.629        62\n",
      "         macro avg      0.315     0.335     0.324        62\n",
      "      weighted avg      0.588     0.629     0.607        62\n",
      "\n",
      "Confusion matrix:\n",
      " [[22  0  8  0]\n",
      " [ 1  0  1  0]\n",
      " [11  0 17  0]\n",
      " [ 1  0  1  0]]\n"
     ]
    }
   ],
   "source": [
    "from sklearn.metrics import classification_report, confusion_matrix\n",
    "import numpy as np\n",
    "\n",
    "id2label = {0: \"Valid\", 1: \"Advertisement\", 2: \"Irrelevant\", 3: \"Rant_Without_Visit\"}\n",
    "all_labels = [0, 1, 2, 3]\n",
    "target_names = [id2label[i] for i in all_labels]\n",
    "\n",
    "predictions = trainer.predict(tokenized_datasets[\"validation\"])\n",
    "logits = predictions.predictions\n",
    "labels = predictions.label_ids\n",
    "preds = np.argmax(logits, axis=-1).astype(int)\n",
    "\n",
    "print(classification_report(\n",
    "    labels, preds,\n",
    "    labels=all_labels,              # <-- ensure fixed label set\n",
    "    target_names=target_names,\n",
    "    zero_division=0,\n",
    "    digits=3\n",
    "))\n",
    "\n",
    "print(\"Confusion matrix:\\n\", confusion_matrix(labels, preds, labels=all_labels))\n"
   ]
  }
 ],
 "metadata": {
  "kernelspec": {
   "display_name": "dra_ykm",
   "language": "python",
   "name": "python3"
  },
  "language_info": {
   "codemirror_mode": {
    "name": "ipython",
    "version": 3
   },
   "file_extension": ".py",
   "mimetype": "text/x-python",
   "name": "python",
   "nbconvert_exporter": "python",
   "pygments_lexer": "ipython3",
   "version": "3.11.13"
  }
 },
 "nbformat": 4,
 "nbformat_minor": 5
}

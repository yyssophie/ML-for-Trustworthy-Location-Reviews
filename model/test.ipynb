{
 "cells": [
  {
   "cell_type": "code",
   "execution_count": 1,
   "id": "bf39d732",
   "metadata": {},
   "outputs": [],
   "source": [
    "import pandas as pd\n",
    "df=pd.read_csv('../data/moderated_reviews.csv')"
   ]
  },
  {
   "cell_type": "code",
   "execution_count": 2,
   "id": "2e983481",
   "metadata": {},
   "outputs": [
    {
     "data": {
      "text/plain": [
       "predicted_label\n",
       "Valid                 967\n",
       "Irrelevant             33\n",
       "Advertisement           1\n",
       "Rant_Without_Visit      1\n",
       "Name: count, dtype: int64"
      ]
     },
     "execution_count": 2,
     "metadata": {},
     "output_type": "execute_result"
    }
   ],
   "source": [
    "df['predicted_label'].value_counts()"
   ]
  },
  {
   "cell_type": "code",
   "execution_count": null,
   "id": "91653580",
   "metadata": {},
   "outputs": [
    {
     "data": {
      "text/html": [
       "<div>\n",
       "<style scoped>\n",
       "    .dataframe tbody tr th:only-of-type {\n",
       "        vertical-align: middle;\n",
       "    }\n",
       "\n",
       "    .dataframe tbody tr th {\n",
       "        vertical-align: top;\n",
       "    }\n",
       "\n",
       "    .dataframe thead th {\n",
       "        text-align: right;\n",
       "    }\n",
       "</style>\n",
       "<table border=\"1\" class=\"dataframe\">\n",
       "  <thead>\n",
       "    <tr style=\"text-align: right;\">\n",
       "      <th></th>\n",
       "      <th>business_name</th>\n",
       "      <th>text</th>\n",
       "      <th>predicted_label</th>\n",
       "      <th>prediction_reason</th>\n",
       "      <th>label</th>\n",
       "    </tr>\n",
       "  </thead>\n",
       "  <tbody>\n",
       "  </tbody>\n",
       "</table>\n",
       "</div>"
      ],
      "text/plain": [
       "Empty DataFrame\n",
       "Columns: [business_name, text, predicted_label, prediction_reason, label]\n",
       "Index: []"
      ]
     },
     "execution_count": 3,
     "metadata": {},
     "output_type": "execute_result"
    }
   ],
   "source": [
    "tag_mapping_dict = {\n",
    "    'Valid': 0,\n",
    "    'Advertisement': 1,\n",
    "    'Irrelevant': 2,\n",
    "    'Rant_Without_Visit': 3,\n",
    "}\n",
    "df['label'] = df['predicted_label'].map(tag_mapping_dict)\n",
    "\n",
    "# REPLACE this:\n",
    "# df[df['label']==None]\n",
    "# WITH:\n",
    "missing = df['label'].isna()\n",
    "print(\"Unmapped labels:\", int(missing.sum()))\n",
    "assert missing.sum() == 0, \"Found unmapped labels in predicted_label\"\n"
   ]
  },
  {
   "cell_type": "code",
   "execution_count": null,
   "id": "e098b4cd",
   "metadata": {},
   "outputs": [],
   "source": [
    "df_filtered = df.loc[:, ['text', 'label']]"
   ]
  },
  {
   "cell_type": "code",
   "execution_count": null,
   "id": "b5c3ca09",
   "metadata": {},
   "outputs": [
    {
     "name": "stderr",
     "output_type": "stream",
     "text": [
      "/home/zhangguibin/anaconda3/envs/dra_ykm/lib/python3.11/site-packages/tqdm/auto.py:21: TqdmWarning: IProgress not found. Please update jupyter and ipywidgets. See https://ipywidgets.readthedocs.io/en/stable/user_install.html\n",
      "  from .autonotebook import tqdm as notebook_tqdm\n"
     ]
    }
   ],
   "source": [
    "from datasets import Dataset, DatasetDict\n",
    "from sklearn.model_selection import train_test_split"
   ]
  },
  {
   "cell_type": "code",
   "execution_count": null,
   "id": "23e31cd7",
   "metadata": {},
   "outputs": [
    {
     "name": "stdout",
     "output_type": "stream",
     "text": [
      "DatasetDict({\n",
      "    train: Dataset({\n",
      "        features: ['text', 'label'],\n",
      "        num_rows: 901\n",
      "    })\n",
      "    validation: Dataset({\n",
      "        features: ['text', 'label'],\n",
      "        num_rows: 101\n",
      "    })\n",
      "})\n"
     ]
    }
   ],
   "source": [
    "from datasets import Dataset, DatasetDict\n",
    "from sklearn.model_selection import train_test_split\n",
    "\n",
    "train_df, val_df = train_test_split(\n",
    "    df_filtered[['text','label']],\n",
    "    test_size=0.1,\n",
    "    random_state=42,\n",
    "    stratify=df_filtered['label']\n",
    ")\n",
    "\n",
    "train_dataset = Dataset.from_pandas(train_df.reset_index(drop=True))\n",
    "val_dataset   = Dataset.from_pandas(val_df.reset_index(drop=True))\n",
    "\n",
    "my_dataset_dict = DatasetDict({\n",
    "    'train': train_dataset,\n",
    "    'validation': val_dataset\n",
    "}).remove_columns([])  # nothing to drop now\n",
    "\n",
    "print(my_dataset_dict)\n"
   ]
  },
  {
   "cell_type": "code",
   "execution_count": null,
   "id": "2c5b29bf",
   "metadata": {},
   "outputs": [],
   "source": [
    "# gpu usage\n",
    "import os\n",
    "os.environ[\"CUDA_VISIBLE_DEVICES\"] = \"1,2,3\""
   ]
  },
  {
   "cell_type": "code",
   "execution_count": null,
   "id": "927b6493",
   "metadata": {},
   "outputs": [
    {
     "name": "stdout",
     "output_type": "stream",
     "text": [
      "GPU is available. Device count: 3\n",
      "Current device: 0\n",
      "Device name: NVIDIA L40S\n"
     ]
    }
   ],
   "source": [
    "import torch\n",
    "\n",
    "if torch.cuda.is_available():\n",
    "    print(f\"GPU is available. Device count: {torch.cuda.device_count()}\")\n",
    "    print(f\"Current device: {torch.cuda.current_device()}\")\n",
    "    print(f\"Device name: {torch.cuda.get_device_name(torch.cuda.current_device())}\")\n",
    "    device = torch.device(\"cuda\")\n",
    "else:\n",
    "    print(\"No GPU available, using CPU.\")\n",
    "    device = torch.device(\"cpu\")"
   ]
  },
  {
   "cell_type": "code",
   "execution_count": null,
   "id": "6215ea66",
   "metadata": {},
   "outputs": [
    {
     "name": "stderr",
     "output_type": "stream",
     "text": [
      "Map: 100%|██████████| 901/901 [00:00<00:00, 14422.16 examples/s]\n",
      "Map: 100%|██████████| 101/101 [00:00<00:00, 8324.16 examples/s]\n"
     ]
    }
   ],
   "source": [
    "from transformers import AutoTokenizer, DataCollatorWithPadding\n",
    "\n",
    "checkpoint = \"bert-base-uncased\"\n",
    "tokenizer = AutoTokenizer.from_pretrained(checkpoint)\n",
    "\n",
    "INSTRUCTION = (\n",
    "    \"Task: classify review for THIS business. \"\n",
    "    \"Labels: Valid, Advertisement, Irrelevant, Rant_Without_Visit. \"\n",
    "    \"Priority: Ad > Irrelevant > No-visit rant > Valid.\"\n",
    ")\n",
    "\n",
    "def tokenize_function(example):\n",
    "    texts = example[\"text\"]\n",
    "    # texts is a list when batched=True; replicate the instruction to match length\n",
    "    instr = [INSTRUCTION] * len(texts)\n",
    "    return tokenizer(instr, texts, truncation=True, max_length=256)\n",
    "\n",
    "\n",
    "tokenized_datasets = my_dataset_dict.map(tokenize_function, batched=True)\n",
    "data_collator = DataCollatorWithPadding(tokenizer=tokenizer)\n",
    "\n",
    "# drop any raw columns that may exist (prompted_text OR text, and any index col)\n",
    "cols_to_drop = [c for c in tokenized_datasets[\"train\"].column_names \n",
    "                if c in [\"prompted_text\", \"text\", \"__index_level_0__\"]]\n",
    "if cols_to_drop:\n",
    "    tokenized_datasets = tokenized_datasets.remove_columns(cols_to_drop)\n",
    "\n"
   ]
  },
  {
   "cell_type": "code",
   "execution_count": null,
   "id": "f1300ea3",
   "metadata": {},
   "outputs": [
    {
     "name": "stderr",
     "output_type": "stream",
     "text": [
      "Some weights of BertForSequenceClassification were not initialized from the model checkpoint at bert-base-uncased and are newly initialized: ['classifier.bias', 'classifier.weight']\n",
      "You should probably TRAIN this model on a down-stream task to be able to use it for predictions and inference.\n",
      "/home/zhangguibin/anaconda3/envs/dra_ykm/lib/python3.11/site-packages/torch/nn/parallel/_functions.py:71: UserWarning: Was asked to gather along dimension 0, but all input tensors were scalars; will instead unsqueeze and return a vector.\n",
      "  warnings.warn(\n"
     ]
    },
    {
     "data": {
      "text/html": [
       "\n",
       "    <div>\n",
       "      \n",
       "      <progress value='57' max='57' style='width:300px; height:20px; vertical-align: middle;'></progress>\n",
       "      [57/57 00:09, Epoch 3/3]\n",
       "    </div>\n",
       "    <table border=\"1\" class=\"dataframe\">\n",
       "  <thead>\n",
       " <tr style=\"text-align: left;\">\n",
       "      <th>Step</th>\n",
       "      <th>Training Loss</th>\n",
       "    </tr>\n",
       "  </thead>\n",
       "  <tbody>\n",
       "  </tbody>\n",
       "</table><p>"
      ],
      "text/plain": [
       "<IPython.core.display.HTML object>"
      ]
     },
     "metadata": {},
     "output_type": "display_data"
    },
    {
     "data": {
      "text/plain": [
       "TrainOutput(global_step=57, training_loss=1.0191426862750137, metrics={'train_runtime': 11.4883, 'train_samples_per_second': 235.282, 'train_steps_per_second': 4.962, 'total_flos': 247014841607352.0, 'train_loss': 1.0191426862750137, 'epoch': 3.0})"
      ]
     },
     "execution_count": 10,
     "metadata": {},
     "output_type": "execute_result"
    }
   ],
   "source": [
    "from transformers import AutoModelForSequenceClassification, TrainingArguments, Trainer\n",
    "from sklearn.metrics import accuracy_score, f1_score\n",
    "import numpy as np\n",
    "\n",
    "# 1. 加载模型 (此时模型默认在CPU上)\n",
    "model = AutoModelForSequenceClassification.from_pretrained(checkpoint, num_labels=4)\n",
    "\n",
    "# 简单评估指标（最小改动）\n",
    "def compute_metrics(eval_pred):\n",
    "    logits, labels = eval_pred\n",
    "    preds = np.argmax(logits, axis=-1)\n",
    "    return {\n",
    "        \"accuracy\": accuracy_score(labels, preds),\n",
    "        \"f1_weighted\": f1_score(labels, preds, average=\"weighted\", zero_division=0),\n",
    "        \"f1_macro\": f1_score(labels, preds, average=\"macro\", zero_division=0),\n",
    "    }\n",
    "\n",
    "# 2. 设置训练参数\n",
    "training_args = TrainingArguments(\n",
    "    output_dir=f\"./results/{checkpoint}\",          # 输出目录\n",
    "    num_train_epochs=3,                            # 训练轮次\n",
    "    per_device_train_batch_size=16,                # 每个GPU的训练批量大小\n",
    "    per_device_eval_batch_size=64,                 # 每个GPU的评估批量大小\n",
    "    warmup_ratio=0.1,                              # 预热比例（替代固定500步，更稳妥）\n",
    "    weight_decay=0.01,                             # 权重衰减\n",
    "    logging_dir=\"./logs\",                          # 日志目录\n",
    "    fp16=True,                                     # <--- 开启混合精度训练，大幅加速并减少显存占用 (推荐！)\n",
    "    evaluation_strategy=\"epoch\",                   # 每个epoch评估\n",
    "    save_strategy=\"epoch\",                         # 每个epoch保存\n",
    "    load_best_model_at_end=True,                   # 训练结束加载最优模型\n",
    "    metric_for_best_model=\"f1_macro\",              # 以宏平均F1做最佳指标\n",
    "    greater_is_better=True,\n",
    ")\n",
    "\n",
    "# 假设你已经准备好了 tokenized_datasets\n",
    "# tokenized_datasets['train'], tokenized_datasets['test']\n",
    "\n",
    "# 3. 初始化 Trainer\n",
    "trainer = Trainer(\n",
    "    model=model,                                   # 模型会被自动移动到GPU\n",
    "    args=training_args,                            # 训练参数\n",
    "    train_dataset=tokenized_datasets['train'],\n",
    "    eval_dataset=tokenized_datasets[\"validation\"],\n",
    "    data_collator=data_collator,\n",
    "    tokenizer=tokenizer,                           # （替换 processing_class）\n",
    "    compute_metrics=compute_metrics,               # 增加评估指标\n",
    ")\n",
    "\n",
    "# 4. 开始训练\n",
    "#    在调用 .train() 时，每一批数据也会被自动发送到GPU\n",
    "trainer.train()\n"
   ]
  },
  {
   "cell_type": "code",
   "execution_count": null,
   "id": "bd0fb57b",
   "metadata": {},
   "outputs": [
    {
     "name": "stderr",
     "output_type": "stream",
     "text": [
      "/home/zhangguibin/anaconda3/envs/dra_ykm/lib/python3.11/site-packages/torch/nn/parallel/_functions.py:71: UserWarning: Was asked to gather along dimension 0, but all input tensors were scalars; will instead unsqueeze and return a vector.\n",
      "  warnings.warn(\n"
     ]
    },
    {
     "data": {
      "text/html": [],
      "text/plain": [
       "<IPython.core.display.HTML object>"
      ]
     },
     "metadata": {},
     "output_type": "display_data"
    },
    {
     "name": "stdout",
     "output_type": "stream",
     "text": [
      "(101, 4) (101,)\n"
     ]
    }
   ],
   "source": [
    "from sklearn.metrics import classification_report, confusion_matrix\n",
    "import numpy as np\n",
    "\n",
    "id2label = {0: \"Valid\", 1: \"Advertisement\", 2: \"Irrelevant\", 3: \"Rant_Without_Visit\"}\n",
    "all_labels = [0, 1, 2, 3]\n",
    "target_names = [id2label[i] for i in all_labels]\n",
    "\n",
    "predictions = trainer.predict(tokenized_datasets[\"validation\"])\n",
    "logits = predictions.predictions\n",
    "labels = predictions.label_ids\n",
    "preds = np.argmax(logits, axis=-1).astype(int)\n",
    "\n",
    "print(classification_report(\n",
    "    labels, preds,\n",
    "    labels=all_labels,              # <-- ensure fixed label set\n",
    "    target_names=target_names,\n",
    "    zero_division=0,\n",
    "    digits=3\n",
    "))\n",
    "\n",
    "print(\"Confusion matrix:\\n\", confusion_matrix(labels, preds, labels=all_labels))\n"
   ]
  }
 ],
 "metadata": {
  "kernelspec": {
   "display_name": "dra_ykm",
   "language": "python",
   "name": "python3"
  },
  "language_info": {
   "codemirror_mode": {
    "name": "ipython",
    "version": 3
   },
   "file_extension": ".py",
   "mimetype": "text/x-python",
   "name": "python",
   "nbconvert_exporter": "python",
   "pygments_lexer": "ipython3",
   "version": "3.11.13"
  }
 },
 "nbformat": 4,
 "nbformat_minor": 5
}

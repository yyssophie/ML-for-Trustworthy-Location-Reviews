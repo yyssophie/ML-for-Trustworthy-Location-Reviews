{
 "cells": [
  {
   "cell_type": "code",
   "execution_count": null,
   "id": "bf39d732",
   "metadata": {},
   "outputs": [],
   "source": [
    "import pandas as pd\n",
    "df=pd.read_csv('../data/label_reviews.csv')"
   ]
  },
  {
   "cell_type": "code",
   "execution_count": 21,
   "id": "fc5d7b84",
   "metadata": {},
   "outputs": [
    {
     "data": {
      "text/plain": [
       "array(['Valid', 'Irrelevant'], dtype=object)"
      ]
     },
     "execution_count": 21,
     "metadata": {},
     "output_type": "execute_result"
    }
   ],
   "source": [
    "df[\"predicted_label\"].unique()"
   ]
  },
  {
   "cell_type": "code",
   "execution_count": 22,
   "id": "91653580",
   "metadata": {},
   "outputs": [
    {
     "data": {
      "text/html": [
       "<div>\n",
       "<style scoped>\n",
       "    .dataframe tbody tr th:only-of-type {\n",
       "        vertical-align: middle;\n",
       "    }\n",
       "\n",
       "    .dataframe tbody tr th {\n",
       "        vertical-align: top;\n",
       "    }\n",
       "\n",
       "    .dataframe thead th {\n",
       "        text-align: right;\n",
       "    }\n",
       "</style>\n",
       "<table border=\"1\" class=\"dataframe\">\n",
       "  <thead>\n",
       "    <tr style=\"text-align: right;\">\n",
       "      <th></th>\n",
       "      <th>business_name</th>\n",
       "      <th>text</th>\n",
       "      <th>predicted_label</th>\n",
       "      <th>prediction_reason</th>\n",
       "      <th>label</th>\n",
       "    </tr>\n",
       "  </thead>\n",
       "  <tbody>\n",
       "  </tbody>\n",
       "</table>\n",
       "</div>"
      ],
      "text/plain": [
       "Empty DataFrame\n",
       "Columns: [business_name, text, predicted_label, prediction_reason, label]\n",
       "Index: []"
      ]
     },
     "execution_count": 22,
     "metadata": {},
     "output_type": "execute_result"
    }
   ],
   "source": [
    "tag_mapping_dict = {\n",
    "    'Valid': 0,\n",
    "    'Advertisement': 1,\n",
    "    'Irrelevant': 2  ,\n",
    "    'Rant_Without_Visit': 3,\n",
    "}\n",
    "\n",
    "df['label'] = df['predicted_label'].map(tag_mapping_dict)\n",
    "df[df['label']==None]"
   ]
  },
  {
   "cell_type": "code",
   "execution_count": null,
   "id": "e098b4cd",
   "metadata": {},
   "outputs": [],
   "source": [
    "df_filtered = df.loc[:,['text','label']]\n",
    "df_filtered=df_filtered.head(10)"
   ]
  },
  {
   "cell_type": "code",
   "execution_count": 25,
   "id": "b5c3ca09",
   "metadata": {},
   "outputs": [],
   "source": [
    "from datasets import Dataset, DatasetDict\n",
    "from sklearn.model_selection import train_test_split"
   ]
  },
  {
   "cell_type": "code",
   "execution_count": 35,
   "id": "23e31cd7",
   "metadata": {},
   "outputs": [
    {
     "name": "stdout",
     "output_type": "stream",
     "text": [
      "DatasetDict({\n",
      "    train: Dataset({\n",
      "        features: ['text', 'label'],\n",
      "        num_rows: 70\n",
      "    })\n",
      "    validation: Dataset({\n",
      "        features: ['text', 'label'],\n",
      "        num_rows: 15\n",
      "    })\n",
      "    test: Dataset({\n",
      "        features: ['text', 'label'],\n",
      "        num_rows: 15\n",
      "    })\n",
      "})\n"
     ]
    }
   ],
   "source": [
    "train_df, temp_df = train_test_split(df_filtered, test_size=0.3, random_state=42) \n",
    "\n",
    "val_df, test_df = train_test_split(temp_df, test_size=0.5, random_state=42) \n",
    "\n",
    "train_dataset = Dataset.from_pandas(train_df)\n",
    "val_dataset = Dataset.from_pandas(val_df)\n",
    "test_dataset = Dataset.from_pandas(test_df)\n",
    "\n",
    "my_dataset_dict = DatasetDict({\n",
    "    'train': train_dataset,\n",
    "    'validation': val_dataset,\n",
    "    'test': test_dataset\n",
    "})\n",
    "my_dataset_dict = my_dataset_dict.remove_columns('__index_level_0__')\n",
    "print(my_dataset_dict)"
   ]
  },
  {
   "cell_type": "code",
   "execution_count": 36,
   "id": "6215ea66",
   "metadata": {},
   "outputs": [
    {
     "ename": "KeyboardInterrupt",
     "evalue": "",
     "output_type": "error",
     "traceback": [
      "\u001b[1;31m---------------------------------------------------------------------------\u001b[0m",
      "\u001b[1;31mKeyboardInterrupt\u001b[0m                         Traceback (most recent call last)",
      "Cell \u001b[1;32mIn[36], line 1\u001b[0m\n\u001b[1;32m----> 1\u001b[0m \u001b[38;5;28;01mfrom\u001b[39;00m\u001b[38;5;250m \u001b[39m\u001b[38;5;21;01mtransformers\u001b[39;00m\u001b[38;5;250m \u001b[39m\u001b[38;5;28;01mimport\u001b[39;00m AutoTokenizer, DataCollatorWithPadding\n\u001b[0;32m      3\u001b[0m checkpoint \u001b[38;5;241m=\u001b[39m \u001b[38;5;124m\"\u001b[39m\u001b[38;5;124mbert-base-uncased\u001b[39m\u001b[38;5;124m\"\u001b[39m\n\u001b[0;32m      4\u001b[0m tokenizer \u001b[38;5;241m=\u001b[39m AutoTokenizer\u001b[38;5;241m.\u001b[39mfrom_pretrained(checkpoint)\n",
      "File \u001b[1;32m<frozen importlib._bootstrap>:1075\u001b[0m, in \u001b[0;36m_handle_fromlist\u001b[1;34m(module, fromlist, import_, recursive)\u001b[0m\n",
      "File \u001b[1;32md:\\DevEnv\\miniconda3\\envs\\esft\\lib\\site-packages\\transformers\\utils\\import_utils.py:1956\u001b[0m, in \u001b[0;36m_LazyModule.__getattr__\u001b[1;34m(self, name)\u001b[0m\n\u001b[0;32m   1954\u001b[0m     value \u001b[38;5;241m=\u001b[39m Placeholder\n\u001b[0;32m   1955\u001b[0m \u001b[38;5;28;01melif\u001b[39;00m name \u001b[38;5;129;01min\u001b[39;00m \u001b[38;5;28mself\u001b[39m\u001b[38;5;241m.\u001b[39m_class_to_module\u001b[38;5;241m.\u001b[39mkeys():\n\u001b[1;32m-> 1956\u001b[0m     module \u001b[38;5;241m=\u001b[39m \u001b[38;5;28;43mself\u001b[39;49m\u001b[38;5;241;43m.\u001b[39;49m\u001b[43m_get_module\u001b[49m\u001b[43m(\u001b[49m\u001b[38;5;28;43mself\u001b[39;49m\u001b[38;5;241;43m.\u001b[39;49m\u001b[43m_class_to_module\u001b[49m\u001b[43m[\u001b[49m\u001b[43mname\u001b[49m\u001b[43m]\u001b[49m\u001b[43m)\u001b[49m\n\u001b[0;32m   1957\u001b[0m     value \u001b[38;5;241m=\u001b[39m \u001b[38;5;28mgetattr\u001b[39m(module, name)\n\u001b[0;32m   1958\u001b[0m \u001b[38;5;28;01melif\u001b[39;00m name \u001b[38;5;129;01min\u001b[39;00m \u001b[38;5;28mself\u001b[39m\u001b[38;5;241m.\u001b[39m_modules:\n",
      "File \u001b[1;32md:\\DevEnv\\miniconda3\\envs\\esft\\lib\\site-packages\\transformers\\utils\\import_utils.py:1968\u001b[0m, in \u001b[0;36m_LazyModule._get_module\u001b[1;34m(self, module_name)\u001b[0m\n\u001b[0;32m   1966\u001b[0m \u001b[38;5;28;01mdef\u001b[39;00m\u001b[38;5;250m \u001b[39m\u001b[38;5;21m_get_module\u001b[39m(\u001b[38;5;28mself\u001b[39m, module_name: \u001b[38;5;28mstr\u001b[39m):\n\u001b[0;32m   1967\u001b[0m     \u001b[38;5;28;01mtry\u001b[39;00m:\n\u001b[1;32m-> 1968\u001b[0m         \u001b[38;5;28;01mreturn\u001b[39;00m \u001b[43mimportlib\u001b[49m\u001b[38;5;241;43m.\u001b[39;49m\u001b[43mimport_module\u001b[49m\u001b[43m(\u001b[49m\u001b[38;5;124;43m\"\u001b[39;49m\u001b[38;5;124;43m.\u001b[39;49m\u001b[38;5;124;43m\"\u001b[39;49m\u001b[43m \u001b[49m\u001b[38;5;241;43m+\u001b[39;49m\u001b[43m \u001b[49m\u001b[43mmodule_name\u001b[49m\u001b[43m,\u001b[49m\u001b[43m \u001b[49m\u001b[38;5;28;43mself\u001b[39;49m\u001b[38;5;241;43m.\u001b[39;49m\u001b[38;5;18;43m__name__\u001b[39;49m\u001b[43m)\u001b[49m\n\u001b[0;32m   1969\u001b[0m     \u001b[38;5;28;01mexcept\u001b[39;00m \u001b[38;5;167;01mException\u001b[39;00m \u001b[38;5;28;01mas\u001b[39;00m e:\n\u001b[0;32m   1970\u001b[0m         \u001b[38;5;28;01mraise\u001b[39;00m \u001b[38;5;167;01mRuntimeError\u001b[39;00m(\n\u001b[0;32m   1971\u001b[0m             \u001b[38;5;124mf\u001b[39m\u001b[38;5;124m\"\u001b[39m\u001b[38;5;124mFailed to import \u001b[39m\u001b[38;5;132;01m{\u001b[39;00m\u001b[38;5;28mself\u001b[39m\u001b[38;5;241m.\u001b[39m\u001b[38;5;18m__name__\u001b[39m\u001b[38;5;132;01m}\u001b[39;00m\u001b[38;5;124m.\u001b[39m\u001b[38;5;132;01m{\u001b[39;00mmodule_name\u001b[38;5;132;01m}\u001b[39;00m\u001b[38;5;124m because of the following error (look up to see its\u001b[39m\u001b[38;5;124m\"\u001b[39m\n\u001b[0;32m   1972\u001b[0m             \u001b[38;5;124mf\u001b[39m\u001b[38;5;124m\"\u001b[39m\u001b[38;5;124m traceback):\u001b[39m\u001b[38;5;130;01m\\n\u001b[39;00m\u001b[38;5;132;01m{\u001b[39;00me\u001b[38;5;132;01m}\u001b[39;00m\u001b[38;5;124m\"\u001b[39m\n\u001b[0;32m   1973\u001b[0m         ) \u001b[38;5;28;01mfrom\u001b[39;00m\u001b[38;5;250m \u001b[39m\u001b[38;5;21;01me\u001b[39;00m\n",
      "File \u001b[1;32md:\\DevEnv\\miniconda3\\envs\\esft\\lib\\importlib\\__init__.py:126\u001b[0m, in \u001b[0;36mimport_module\u001b[1;34m(name, package)\u001b[0m\n\u001b[0;32m    124\u001b[0m             \u001b[38;5;28;01mbreak\u001b[39;00m\n\u001b[0;32m    125\u001b[0m         level \u001b[38;5;241m+\u001b[39m\u001b[38;5;241m=\u001b[39m \u001b[38;5;241m1\u001b[39m\n\u001b[1;32m--> 126\u001b[0m \u001b[38;5;28;01mreturn\u001b[39;00m \u001b[43m_bootstrap\u001b[49m\u001b[38;5;241;43m.\u001b[39;49m\u001b[43m_gcd_import\u001b[49m\u001b[43m(\u001b[49m\u001b[43mname\u001b[49m\u001b[43m[\u001b[49m\u001b[43mlevel\u001b[49m\u001b[43m:\u001b[49m\u001b[43m]\u001b[49m\u001b[43m,\u001b[49m\u001b[43m \u001b[49m\u001b[43mpackage\u001b[49m\u001b[43m,\u001b[49m\u001b[43m \u001b[49m\u001b[43mlevel\u001b[49m\u001b[43m)\u001b[49m\n",
      "File \u001b[1;32md:\\DevEnv\\miniconda3\\envs\\esft\\lib\\site-packages\\transformers\\models\\__init__.py:15\u001b[0m\n\u001b[0;32m      1\u001b[0m \u001b[38;5;66;03m# Copyright 2020 The HuggingFace Team. All rights reserved.\u001b[39;00m\n\u001b[0;32m      2\u001b[0m \u001b[38;5;66;03m#\u001b[39;00m\n\u001b[0;32m      3\u001b[0m \u001b[38;5;66;03m# Licensed under the Apache License, Version 2.0 (the \"License\");\u001b[39;00m\n\u001b[1;32m   (...)\u001b[0m\n\u001b[0;32m     12\u001b[0m \u001b[38;5;66;03m# See the License for the specific language governing permissions and\u001b[39;00m\n\u001b[0;32m     13\u001b[0m \u001b[38;5;66;03m# limitations under the License.\u001b[39;00m\n\u001b[1;32m---> 15\u001b[0m \u001b[38;5;28;01mfrom\u001b[39;00m\u001b[38;5;250m \u001b[39m\u001b[38;5;21;01m.\u001b[39;00m\u001b[38;5;250m \u001b[39m\u001b[38;5;28;01mimport\u001b[39;00m (\n\u001b[0;32m     16\u001b[0m     albert,\n\u001b[0;32m     17\u001b[0m     align,\n\u001b[0;32m     18\u001b[0m     altclip,\n\u001b[0;32m     19\u001b[0m     aria,\n\u001b[0;32m     20\u001b[0m     audio_spectrogram_transformer,\n\u001b[0;32m     21\u001b[0m     auto,\n\u001b[0;32m     22\u001b[0m     autoformer,\n\u001b[0;32m     23\u001b[0m     aya_vision,\n\u001b[0;32m     24\u001b[0m     bamba,\n\u001b[0;32m     25\u001b[0m     bark,\n\u001b[0;32m     26\u001b[0m     bart,\n\u001b[0;32m     27\u001b[0m     barthez,\n\u001b[0;32m     28\u001b[0m     bartpho,\n\u001b[0;32m     29\u001b[0m     beit,\n\u001b[0;32m     30\u001b[0m     bert,\n\u001b[0;32m     31\u001b[0m     bert_generation,\n\u001b[0;32m     32\u001b[0m     bert_japanese,\n\u001b[0;32m     33\u001b[0m     bertweet,\n\u001b[0;32m     34\u001b[0m     big_bird,\n\u001b[0;32m     35\u001b[0m     bigbird_pegasus,\n\u001b[0;32m     36\u001b[0m     biogpt,\n\u001b[0;32m     37\u001b[0m     bit,\n\u001b[0;32m     38\u001b[0m     blenderbot,\n\u001b[0;32m     39\u001b[0m     blenderbot_small,\n\u001b[0;32m     40\u001b[0m     blip,\n\u001b[0;32m     41\u001b[0m     blip_2,\n\u001b[0;32m     42\u001b[0m     bloom,\n\u001b[0;32m     43\u001b[0m     bridgetower,\n\u001b[0;32m     44\u001b[0m     bros,\n\u001b[0;32m     45\u001b[0m     byt5,\n\u001b[0;32m     46\u001b[0m     camembert,\n\u001b[0;32m     47\u001b[0m     canine,\n\u001b[0;32m     48\u001b[0m     chameleon,\n\u001b[0;32m     49\u001b[0m     chinese_clip,\n\u001b[0;32m     50\u001b[0m     clap,\n\u001b[0;32m     51\u001b[0m     clip,\n\u001b[0;32m     52\u001b[0m     clipseg,\n\u001b[0;32m     53\u001b[0m     clvp,\n\u001b[0;32m     54\u001b[0m     code_llama,\n\u001b[0;32m     55\u001b[0m     codegen,\n\u001b[0;32m     56\u001b[0m     cohere,\n\u001b[0;32m     57\u001b[0m     cohere2,\n\u001b[0;32m     58\u001b[0m     colpali,\n\u001b[0;32m     59\u001b[0m     conditional_detr,\n\u001b[0;32m     60\u001b[0m     convbert,\n\u001b[0;32m     61\u001b[0m     convnext,\n\u001b[0;32m     62\u001b[0m     convnextv2,\n\u001b[0;32m     63\u001b[0m     cpm,\n\u001b[0;32m     64\u001b[0m     cpmant,\n\u001b[0;32m     65\u001b[0m     ctrl,\n\u001b[0;32m     66\u001b[0m     cvt,\n\u001b[0;32m     67\u001b[0m     dab_detr,\n\u001b[0;32m     68\u001b[0m     dac,\n\u001b[0;32m     69\u001b[0m     data2vec,\n\u001b[0;32m     70\u001b[0m     dbrx,\n\u001b[0;32m     71\u001b[0m     deberta,\n\u001b[0;32m     72\u001b[0m     deberta_v2,\n\u001b[0;32m     73\u001b[0m     decision_transformer,\n\u001b[0;32m     74\u001b[0m     deformable_detr,\n\u001b[0;32m     75\u001b[0m     deit,\n\u001b[0;32m     76\u001b[0m     deprecated,\n\u001b[0;32m     77\u001b[0m     depth_anything,\n\u001b[0;32m     78\u001b[0m     depth_pro,\n\u001b[0;32m     79\u001b[0m     detr,\n\u001b[0;32m     80\u001b[0m     dialogpt,\n\u001b[0;32m     81\u001b[0m     diffllama,\n\u001b[0;32m     82\u001b[0m     dinat,\n\u001b[0;32m     83\u001b[0m     dinov2,\n\u001b[0;32m     84\u001b[0m     dinov2_with_registers,\n\u001b[0;32m     85\u001b[0m     distilbert,\n\u001b[0;32m     86\u001b[0m     dit,\n\u001b[0;32m     87\u001b[0m     donut,\n\u001b[0;32m     88\u001b[0m     dpr,\n\u001b[0;32m     89\u001b[0m     dpt,\n\u001b[0;32m     90\u001b[0m     efficientnet,\n\u001b[0;32m     91\u001b[0m     electra,\n\u001b[0;32m     92\u001b[0m     emu3,\n\u001b[0;32m     93\u001b[0m     encodec,\n\u001b[0;32m     94\u001b[0m     encoder_decoder,\n\u001b[0;32m     95\u001b[0m     ernie,\n\u001b[0;32m     96\u001b[0m     esm,\n\u001b[0;32m     97\u001b[0m     falcon,\n\u001b[0;32m     98\u001b[0m     falcon_mamba,\n\u001b[0;32m     99\u001b[0m     fastspeech2_conformer,\n\u001b[0;32m    100\u001b[0m     flaubert,\n\u001b[0;32m    101\u001b[0m     flava,\n\u001b[0;32m    102\u001b[0m     fnet,\n\u001b[0;32m    103\u001b[0m     focalnet,\n\u001b[0;32m    104\u001b[0m     fsmt,\n\u001b[0;32m    105\u001b[0m     funnel,\n\u001b[0;32m    106\u001b[0m     fuyu,\n\u001b[0;32m    107\u001b[0m     gemma,\n\u001b[0;32m    108\u001b[0m     gemma2,\n\u001b[0;32m    109\u001b[0m     gemma3,\n\u001b[0;32m    110\u001b[0m     git,\n\u001b[0;32m    111\u001b[0m     glm,\n\u001b[0;32m    112\u001b[0m     glpn,\n\u001b[0;32m    113\u001b[0m     got_ocr2,\n\u001b[0;32m    114\u001b[0m     gpt2,\n\u001b[0;32m    115\u001b[0m     gpt_bigcode,\n\u001b[0;32m    116\u001b[0m     gpt_neo,\n\u001b[0;32m    117\u001b[0m     gpt_neox,\n\u001b[0;32m    118\u001b[0m     gpt_neox_japanese,\n\u001b[0;32m    119\u001b[0m     gpt_sw3,\n\u001b[0;32m    120\u001b[0m     gptj,\n\u001b[0;32m    121\u001b[0m     granite,\n\u001b[0;32m    122\u001b[0m     granitemoe,\n\u001b[0;32m    123\u001b[0m     granitemoeshared,\n\u001b[0;32m    124\u001b[0m     grounding_dino,\n\u001b[0;32m    125\u001b[0m     groupvit,\n\u001b[0;32m    126\u001b[0m     helium,\n\u001b[0;32m    127\u001b[0m     herbert,\n\u001b[0;32m    128\u001b[0m     hiera,\n\u001b[0;32m    129\u001b[0m     hubert,\n\u001b[0;32m    130\u001b[0m     ibert,\n\u001b[0;32m    131\u001b[0m     idefics,\n\u001b[0;32m    132\u001b[0m     idefics2,\n\u001b[0;32m    133\u001b[0m     idefics3,\n\u001b[0;32m    134\u001b[0m     ijepa,\n\u001b[0;32m    135\u001b[0m     imagegpt,\n\u001b[0;32m    136\u001b[0m     informer,\n\u001b[0;32m    137\u001b[0m     instructblip,\n\u001b[0;32m    138\u001b[0m     instructblipvideo,\n\u001b[0;32m    139\u001b[0m     jamba,\n\u001b[0;32m    140\u001b[0m     jetmoe,\n\u001b[0;32m    141\u001b[0m     kosmos2,\n\u001b[0;32m    142\u001b[0m     layoutlm,\n\u001b[0;32m    143\u001b[0m     layoutlmv2,\n\u001b[0;32m    144\u001b[0m     layoutlmv3,\n\u001b[0;32m    145\u001b[0m     layoutxlm,\n\u001b[0;32m    146\u001b[0m     led,\n\u001b[0;32m    147\u001b[0m     levit,\n\u001b[0;32m    148\u001b[0m     lilt,\n\u001b[0;32m    149\u001b[0m     llama,\n\u001b[0;32m    150\u001b[0m     llava,\n\u001b[0;32m    151\u001b[0m     llava_next,\n\u001b[0;32m    152\u001b[0m     llava_next_video,\n\u001b[0;32m    153\u001b[0m     llava_onevision,\n\u001b[0;32m    154\u001b[0m     longformer,\n\u001b[0;32m    155\u001b[0m     longt5,\n\u001b[0;32m    156\u001b[0m     luke,\n\u001b[0;32m    157\u001b[0m     lxmert,\n\u001b[0;32m    158\u001b[0m     m2m_100,\n\u001b[0;32m    159\u001b[0m     mamba,\n\u001b[0;32m    160\u001b[0m     mamba2,\n\u001b[0;32m    161\u001b[0m     marian,\n\u001b[0;32m    162\u001b[0m     markuplm,\n\u001b[0;32m    163\u001b[0m     mask2former,\n\u001b[0;32m    164\u001b[0m     maskformer,\n\u001b[0;32m    165\u001b[0m     mbart,\n\u001b[0;32m    166\u001b[0m     mbart50,\n\u001b[0;32m    167\u001b[0m     megatron_bert,\n\u001b[0;32m    168\u001b[0m     megatron_gpt2,\n\u001b[0;32m    169\u001b[0m     mgp_str,\n\u001b[0;32m    170\u001b[0m     mimi,\n\u001b[0;32m    171\u001b[0m     mistral,\n\u001b[0;32m    172\u001b[0m     mistral3,\n\u001b[0;32m    173\u001b[0m     mixtral,\n\u001b[0;32m    174\u001b[0m     mllama,\n\u001b[0;32m    175\u001b[0m     mluke,\n\u001b[0;32m    176\u001b[0m     mobilebert,\n\u001b[0;32m    177\u001b[0m     mobilenet_v1,\n\u001b[0;32m    178\u001b[0m     mobilenet_v2,\n\u001b[0;32m    179\u001b[0m     mobilevit,\n\u001b[0;32m    180\u001b[0m     mobilevitv2,\n\u001b[0;32m    181\u001b[0m     modernbert,\n\u001b[0;32m    182\u001b[0m     moonshine,\n\u001b[0;32m    183\u001b[0m     moshi,\n\u001b[0;32m    184\u001b[0m     mpnet,\n\u001b[0;32m    185\u001b[0m     mpt,\n\u001b[0;32m    186\u001b[0m     mra,\n\u001b[0;32m    187\u001b[0m     mt5,\n\u001b[0;32m    188\u001b[0m     musicgen,\n\u001b[0;32m    189\u001b[0m     musicgen_melody,\n\u001b[0;32m    190\u001b[0m     mvp,\n\u001b[0;32m    191\u001b[0m     myt5,\n\u001b[0;32m    192\u001b[0m     nemotron,\n\u001b[0;32m    193\u001b[0m     nllb,\n\u001b[0;32m    194\u001b[0m     nllb_moe,\n\u001b[0;32m    195\u001b[0m     nougat,\n\u001b[0;32m    196\u001b[0m     nystromformer,\n\u001b[0;32m    197\u001b[0m     olmo,\n\u001b[0;32m    198\u001b[0m     olmo2,\n\u001b[0;32m    199\u001b[0m     olmoe,\n\u001b[0;32m    200\u001b[0m     omdet_turbo,\n\u001b[0;32m    201\u001b[0m     oneformer,\n\u001b[0;32m    202\u001b[0m     openai,\n\u001b[0;32m    203\u001b[0m     opt,\n\u001b[0;32m    204\u001b[0m     owlv2,\n\u001b[0;32m    205\u001b[0m     owlvit,\n\u001b[0;32m    206\u001b[0m     paligemma,\n\u001b[0;32m    207\u001b[0m     patchtsmixer,\n\u001b[0;32m    208\u001b[0m     patchtst,\n\u001b[0;32m    209\u001b[0m     pegasus,\n\u001b[0;32m    210\u001b[0m     pegasus_x,\n\u001b[0;32m    211\u001b[0m     perceiver,\n\u001b[0;32m    212\u001b[0m     persimmon,\n\u001b[0;32m    213\u001b[0m     phi,\n\u001b[0;32m    214\u001b[0m     phi3,\n\u001b[0;32m    215\u001b[0m     phimoe,\n\u001b[0;32m    216\u001b[0m     phobert,\n\u001b[0;32m    217\u001b[0m     pix2struct,\n\u001b[0;32m    218\u001b[0m     pixtral,\n\u001b[0;32m    219\u001b[0m     plbart,\n\u001b[0;32m    220\u001b[0m     poolformer,\n\u001b[0;32m    221\u001b[0m     pop2piano,\n\u001b[0;32m    222\u001b[0m     prompt_depth_anything,\n\u001b[0;32m    223\u001b[0m     prophetnet,\n\u001b[0;32m    224\u001b[0m     pvt,\n\u001b[0;32m    225\u001b[0m     pvt_v2,\n\u001b[0;32m    226\u001b[0m     qwen2,\n\u001b[0;32m    227\u001b[0m     qwen2_5_vl,\n\u001b[0;32m    228\u001b[0m     qwen2_audio,\n\u001b[0;32m    229\u001b[0m     qwen2_moe,\n\u001b[0;32m    230\u001b[0m     qwen2_vl,\n\u001b[0;32m    231\u001b[0m     rag,\n\u001b[0;32m    232\u001b[0m     recurrent_gemma,\n\u001b[0;32m    233\u001b[0m     reformer,\n\u001b[0;32m    234\u001b[0m     regnet,\n\u001b[0;32m    235\u001b[0m     rembert,\n\u001b[0;32m    236\u001b[0m     resnet,\n\u001b[0;32m    237\u001b[0m     roberta,\n\u001b[0;32m    238\u001b[0m     roberta_prelayernorm,\n\u001b[0;32m    239\u001b[0m     roc_bert,\n\u001b[0;32m    240\u001b[0m     roformer,\n\u001b[0;32m    241\u001b[0m     rt_detr,\n\u001b[0;32m    242\u001b[0m     rt_detr_v2,\n\u001b[0;32m    243\u001b[0m     rwkv,\n\u001b[0;32m    244\u001b[0m     sam,\n\u001b[0;32m    245\u001b[0m     seamless_m4t,\n\u001b[0;32m    246\u001b[0m     seamless_m4t_v2,\n\u001b[0;32m    247\u001b[0m     segformer,\n\u001b[0;32m    248\u001b[0m     seggpt,\n\u001b[0;32m    249\u001b[0m     sew,\n\u001b[0;32m    250\u001b[0m     sew_d,\n\u001b[0;32m    251\u001b[0m     shieldgemma2,\n\u001b[0;32m    252\u001b[0m     siglip,\n\u001b[0;32m    253\u001b[0m     siglip2,\n\u001b[0;32m    254\u001b[0m     smolvlm,\n\u001b[0;32m    255\u001b[0m     speech_encoder_decoder,\n\u001b[0;32m    256\u001b[0m     speech_to_text,\n\u001b[0;32m    257\u001b[0m     speecht5,\n\u001b[0;32m    258\u001b[0m     splinter,\n\u001b[0;32m    259\u001b[0m     squeezebert,\n\u001b[0;32m    260\u001b[0m     stablelm,\n\u001b[0;32m    261\u001b[0m     starcoder2,\n\u001b[0;32m    262\u001b[0m     superglue,\n\u001b[0;32m    263\u001b[0m     superpoint,\n\u001b[0;32m    264\u001b[0m     swiftformer,\n\u001b[0;32m    265\u001b[0m     swin,\n\u001b[0;32m    266\u001b[0m     swin2sr,\n\u001b[0;32m    267\u001b[0m     swinv2,\n\u001b[0;32m    268\u001b[0m     switch_transformers,\n\u001b[0;32m    269\u001b[0m     t5,\n\u001b[0;32m    270\u001b[0m     table_transformer,\n\u001b[0;32m    271\u001b[0m     tapas,\n\u001b[0;32m    272\u001b[0m     textnet,\n\u001b[0;32m    273\u001b[0m     time_series_transformer,\n\u001b[0;32m    274\u001b[0m     timesformer,\n\u001b[0;32m    275\u001b[0m     timm_backbone,\n\u001b[0;32m    276\u001b[0m     timm_wrapper,\n\u001b[0;32m    277\u001b[0m     trocr,\n\u001b[0;32m    278\u001b[0m     tvp,\n\u001b[0;32m    279\u001b[0m     udop,\n\u001b[0;32m    280\u001b[0m     umt5,\n\u001b[0;32m    281\u001b[0m     unispeech,\n\u001b[0;32m    282\u001b[0m     unispeech_sat,\n\u001b[0;32m    283\u001b[0m     univnet,\n\u001b[0;32m    284\u001b[0m     upernet,\n\u001b[0;32m    285\u001b[0m     video_llava,\n\u001b[0;32m    286\u001b[0m     videomae,\n\u001b[0;32m    287\u001b[0m     vilt,\n\u001b[0;32m    288\u001b[0m     vipllava,\n\u001b[0;32m    289\u001b[0m     vision_encoder_decoder,\n\u001b[0;32m    290\u001b[0m     vision_text_dual_encoder,\n\u001b[0;32m    291\u001b[0m     visual_bert,\n\u001b[0;32m    292\u001b[0m     vit,\n\u001b[0;32m    293\u001b[0m     vit_mae,\n\u001b[0;32m    294\u001b[0m     vit_msn,\n\u001b[0;32m    295\u001b[0m     vitdet,\n\u001b[0;32m    296\u001b[0m     vitmatte,\n\u001b[0;32m    297\u001b[0m     vitpose,\n\u001b[0;32m    298\u001b[0m     vitpose_backbone,\n\u001b[0;32m    299\u001b[0m     vits,\n\u001b[0;32m    300\u001b[0m     vivit,\n\u001b[0;32m    301\u001b[0m     wav2vec2,\n\u001b[0;32m    302\u001b[0m     wav2vec2_bert,\n\u001b[0;32m    303\u001b[0m     wav2vec2_conformer,\n\u001b[0;32m    304\u001b[0m     wav2vec2_phoneme,\n\u001b[0;32m    305\u001b[0m     wav2vec2_with_lm,\n\u001b[0;32m    306\u001b[0m     wavlm,\n\u001b[0;32m    307\u001b[0m     whisper,\n\u001b[0;32m    308\u001b[0m     x_clip,\n\u001b[0;32m    309\u001b[0m     xglm,\n\u001b[0;32m    310\u001b[0m     xlm,\n\u001b[0;32m    311\u001b[0m     xlm_roberta,\n\u001b[0;32m    312\u001b[0m     xlm_roberta_xl,\n\u001b[0;32m    313\u001b[0m     xlnet,\n\u001b[0;32m    314\u001b[0m     xmod,\n\u001b[0;32m    315\u001b[0m     yolos,\n\u001b[0;32m    316\u001b[0m     yoso,\n\u001b[0;32m    317\u001b[0m     zamba,\n\u001b[0;32m    318\u001b[0m     zamba2,\n\u001b[0;32m    319\u001b[0m     zoedepth,\n\u001b[0;32m    320\u001b[0m )\n",
      "File \u001b[1;32md:\\DevEnv\\miniconda3\\envs\\esft\\lib\\site-packages\\transformers\\models\\resnet\\__init__.py:29\u001b[0m\n\u001b[0;32m     26\u001b[0m \u001b[38;5;28;01mimport\u001b[39;00m\u001b[38;5;250m \u001b[39m\u001b[38;5;21;01msys\u001b[39;00m\n\u001b[0;32m     28\u001b[0m _file \u001b[38;5;241m=\u001b[39m \u001b[38;5;28mglobals\u001b[39m()[\u001b[38;5;124m\"\u001b[39m\u001b[38;5;124m__file__\u001b[39m\u001b[38;5;124m\"\u001b[39m]\n\u001b[1;32m---> 29\u001b[0m sys\u001b[38;5;241m.\u001b[39mmodules[\u001b[38;5;18m__name__\u001b[39m] \u001b[38;5;241m=\u001b[39m _LazyModule(\u001b[38;5;18m__name__\u001b[39m, _file, \u001b[43mdefine_import_structure\u001b[49m\u001b[43m(\u001b[49m\u001b[43m_file\u001b[49m\u001b[43m)\u001b[49m, module_spec\u001b[38;5;241m=\u001b[39m__spec__)\n",
      "File \u001b[1;32md:\\DevEnv\\miniconda3\\envs\\esft\\lib\\site-packages\\transformers\\utils\\import_utils.py:2392\u001b[0m, in \u001b[0;36mdefine_import_structure\u001b[1;34m(module_path)\u001b[0m\n\u001b[0;32m   2371\u001b[0m \u001b[38;5;28;01mdef\u001b[39;00m\u001b[38;5;250m \u001b[39m\u001b[38;5;21mdefine_import_structure\u001b[39m(module_path: \u001b[38;5;28mstr\u001b[39m) \u001b[38;5;241m-\u001b[39m\u001b[38;5;241m>\u001b[39m IMPORT_STRUCTURE_T:\n\u001b[0;32m   2372\u001b[0m \u001b[38;5;250m    \u001b[39m\u001b[38;5;124;03m\"\"\"\u001b[39;00m\n\u001b[0;32m   2373\u001b[0m \u001b[38;5;124;03m    This method takes a module_path as input and creates an import structure digestible by a _LazyModule.\u001b[39;00m\n\u001b[0;32m   2374\u001b[0m \n\u001b[1;32m   (...)\u001b[0m\n\u001b[0;32m   2390\u001b[0m \u001b[38;5;124;03m    The import structure is a dict defined with frozensets as keys, and dicts of strings to sets of objects.\u001b[39;00m\n\u001b[0;32m   2391\u001b[0m \u001b[38;5;124;03m    \"\"\"\u001b[39;00m\n\u001b[1;32m-> 2392\u001b[0m     import_structure \u001b[38;5;241m=\u001b[39m \u001b[43mcreate_import_structure_from_path\u001b[49m\u001b[43m(\u001b[49m\u001b[43mmodule_path\u001b[49m\u001b[43m)\u001b[49m\n\u001b[0;32m   2393\u001b[0m     \u001b[38;5;28;01mreturn\u001b[39;00m spread_import_structure(import_structure)\n",
      "File \u001b[1;32md:\\DevEnv\\miniconda3\\envs\\esft\\lib\\site-packages\\transformers\\utils\\import_utils.py:2162\u001b[0m, in \u001b[0;36mcreate_import_structure_from_path\u001b[1;34m(module_path)\u001b[0m\n\u001b[0;32m   2159\u001b[0m \u001b[38;5;28;01mif\u001b[39;00m \u001b[38;5;129;01mnot\u001b[39;00m module_name\u001b[38;5;241m.\u001b[39mendswith(\u001b[38;5;124m\"\u001b[39m\u001b[38;5;124m.py\u001b[39m\u001b[38;5;124m\"\u001b[39m):\n\u001b[0;32m   2160\u001b[0m     \u001b[38;5;28;01mcontinue\u001b[39;00m\n\u001b[1;32m-> 2162\u001b[0m \u001b[38;5;28;01mwith\u001b[39;00m \u001b[38;5;28mopen\u001b[39m(os\u001b[38;5;241m.\u001b[39mpath\u001b[38;5;241m.\u001b[39mjoin(directory, module_name), encoding\u001b[38;5;241m=\u001b[39m\u001b[38;5;124m\"\u001b[39m\u001b[38;5;124mutf-8\u001b[39m\u001b[38;5;124m\"\u001b[39m) \u001b[38;5;28;01mas\u001b[39;00m f:\n\u001b[0;32m   2163\u001b[0m     file_content \u001b[38;5;241m=\u001b[39m f\u001b[38;5;241m.\u001b[39mread()\n\u001b[0;32m   2165\u001b[0m \u001b[38;5;66;03m# Remove the .py suffix\u001b[39;00m\n",
      "File \u001b[1;32md:\\DevEnv\\miniconda3\\envs\\esft\\lib\\codecs.py:309\u001b[0m, in \u001b[0;36mBufferedIncrementalDecoder.__init__\u001b[1;34m(self, errors)\u001b[0m\n\u001b[0;32m    303\u001b[0m \u001b[38;5;28;01mclass\u001b[39;00m\u001b[38;5;250m \u001b[39m\u001b[38;5;21;01mBufferedIncrementalDecoder\u001b[39;00m(IncrementalDecoder):\n\u001b[0;32m    304\u001b[0m \u001b[38;5;250m    \u001b[39m\u001b[38;5;124;03m\"\"\"\u001b[39;00m\n\u001b[0;32m    305\u001b[0m \u001b[38;5;124;03m    This subclass of IncrementalDecoder can be used as the baseclass for an\u001b[39;00m\n\u001b[0;32m    306\u001b[0m \u001b[38;5;124;03m    incremental decoder if the decoder must be able to handle incomplete\u001b[39;00m\n\u001b[0;32m    307\u001b[0m \u001b[38;5;124;03m    byte sequences.\u001b[39;00m\n\u001b[0;32m    308\u001b[0m \u001b[38;5;124;03m    \"\"\"\u001b[39;00m\n\u001b[1;32m--> 309\u001b[0m     \u001b[38;5;28;01mdef\u001b[39;00m\u001b[38;5;250m \u001b[39m\u001b[38;5;21m__init__\u001b[39m(\u001b[38;5;28mself\u001b[39m, errors\u001b[38;5;241m=\u001b[39m\u001b[38;5;124m'\u001b[39m\u001b[38;5;124mstrict\u001b[39m\u001b[38;5;124m'\u001b[39m):\n\u001b[0;32m    310\u001b[0m         IncrementalDecoder\u001b[38;5;241m.\u001b[39m\u001b[38;5;21m__init__\u001b[39m(\u001b[38;5;28mself\u001b[39m, errors)\n\u001b[0;32m    311\u001b[0m         \u001b[38;5;66;03m# undecoded input that is kept between calls to decode()\u001b[39;00m\n",
      "\u001b[1;31mKeyboardInterrupt\u001b[0m: "
     ]
    }
   ],
   "source": [
    "from transformers import AutoTokenizer, DataCollatorWithPadding\n",
    "\n",
    "checkpoint = \"bert-base-uncased\"\n",
    "tokenizer = AutoTokenizer.from_pretrained(checkpoint)\n",
    "\n",
    "\n",
    "def tokenize_function(example):\n",
    "    return tokenizer(example[\"text\"],truncation=True)\n",
    "\n",
    "\n",
    "tokenized_datasets = my_dataset_dict.map(tokenize_function, batched=True)\n",
    "# data_collator = DataCollatorWithPadding(tokenizer=tokenizer)"
   ]
  }
 ],
 "metadata": {
  "kernelspec": {
   "display_name": "esft",
   "language": "python",
   "name": "python3"
  },
  "language_info": {
   "codemirror_mode": {
    "name": "ipython",
    "version": 3
   },
   "file_extension": ".py",
   "mimetype": "text/x-python",
   "name": "python",
   "nbconvert_exporter": "python",
   "pygments_lexer": "ipython3",
   "version": "3.10.18"
  }
 },
 "nbformat": 4,
 "nbformat_minor": 5
}

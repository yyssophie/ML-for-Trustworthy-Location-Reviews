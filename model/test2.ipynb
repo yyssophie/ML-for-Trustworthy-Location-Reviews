{
 "cells": [
  {
   "cell_type": "code",
   "execution_count": 1,
   "id": "bf39d732",
   "metadata": {},
   "outputs": [
    {
     "name": "stdout",
     "output_type": "stream",
     "text": [
      "30\n"
     ]
    }
   ],
   "source": [
    "import pandas as pd\n",
    "import random\n",
    "seed=random.randint(0,100)\n",
    "print(seed)"
   ]
  },
  {
   "cell_type": "code",
   "execution_count": 2,
   "id": "2e983481",
   "metadata": {},
   "outputs": [
    {
     "data": {
      "text/plain": [
       "predicted_label\n",
       "Valid                 7681\n",
       "Irrelevant             480\n",
       "Advertisement          172\n",
       "Rant_Without_Visit     135\n",
       "Name: count, dtype: int64"
      ]
     },
     "execution_count": 2,
     "metadata": {},
     "output_type": "execute_result"
    }
   ],
   "source": [
    "df=pd.read_csv('../data/out/augmented_shuffled.csv')\n",
    "df = df.dropna(subset=[\"predicted_label\"])\n",
    "df = df[df[\"predicted_label\"].str.strip() != \"\"]\n",
    "df['predicted_label'].value_counts()"
   ]
  },
  {
   "cell_type": "code",
   "execution_count": 3,
   "id": "ca5be61d",
   "metadata": {},
   "outputs": [
    {
     "name": "stdout",
     "output_type": "stream",
     "text": [
      "predicted_label\n",
      "Irrelevant            480\n",
      "Valid                 300\n",
      "Advertisement         172\n",
      "Rant_Without_Visit    135\n",
      "Name: count, dtype: int64\n"
     ]
    }
   ],
   "source": [
    "# Separate the DataFrame into 'valid' and 'non-valid' rows.\n",
    "df_valid = df[df['predicted_label'] == 'Valid']\n",
    "df_other = df[df['predicted_label'] != 'Valid']\n",
    "\n",
    "# Randomly sample 300 rows from the 'valid' DataFrame.\n",
    "df_valid_sampled = df_valid.sample(n=300, random_state=seed)\n",
    "\n",
    "# Concatenate the sampled 'valid' rows with the 'non-valid' rows.\n",
    "df = pd.concat([df_valid_sampled, df_other])\n",
    "\n",
    "# Print the value counts of the updated DataFrame.\n",
    "print(df['predicted_label'].value_counts())"
   ]
  },
  {
   "cell_type": "code",
   "execution_count": 4,
   "id": "91653580",
   "metadata": {},
   "outputs": [
    {
     "name": "stdout",
     "output_type": "stream",
     "text": [
      "Unmapped labels: 0\n"
     ]
    }
   ],
   "source": [
    "tag_mapping_dict = {\n",
    "    'Valid': 0,\n",
    "    'Advertisement': 1,\n",
    "    'Irrelevant': 2,\n",
    "    'Rant_Without_Visit': 3,\n",
    "}\n",
    "\n",
    "df['label'] = df['predicted_label'].map(tag_mapping_dict)\n",
    "\n",
    "\n",
    "# REPLACE this:\n",
    "# df[df['label']==None]\n",
    "# WITH:\n",
    "missing = df['label'].isna()\n",
    "print(\"Unmapped labels:\", int(missing.sum()))\n",
    "assert missing.sum() == 0, \"Found unmapped labels in predicted_label\"\n"
   ]
  },
  {
   "cell_type": "code",
   "execution_count": 5,
   "id": "19ef9453",
   "metadata": {},
   "outputs": [
    {
     "data": {
      "text/html": [
       "<div>\n",
       "<style scoped>\n",
       "    .dataframe tbody tr th:only-of-type {\n",
       "        vertical-align: middle;\n",
       "    }\n",
       "\n",
       "    .dataframe tbody tr th {\n",
       "        vertical-align: top;\n",
       "    }\n",
       "\n",
       "    .dataframe thead th {\n",
       "        text-align: right;\n",
       "    }\n",
       "</style>\n",
       "<table border=\"1\" class=\"dataframe\">\n",
       "  <thead>\n",
       "    <tr style=\"text-align: right;\">\n",
       "      <th></th>\n",
       "      <th>business_name</th>\n",
       "      <th>text</th>\n",
       "      <th>predicted_label</th>\n",
       "      <th>prediction_reason</th>\n",
       "      <th>description</th>\n",
       "      <th>category</th>\n",
       "      <th>label</th>\n",
       "    </tr>\n",
       "  </thead>\n",
       "  <tbody>\n",
       "    <tr>\n",
       "      <th>6466</th>\n",
       "      <td>Mi Tierra</td>\n",
       "      <td>Service is terrible.  The food is nothing like...</td>\n",
       "      <td>Valid</td>\n",
       "      <td>The review provides detailed feedback about a ...</td>\n",
       "      <td>NaN</td>\n",
       "      <td>['Mexican restaurant']</td>\n",
       "      <td>0</td>\n",
       "    </tr>\n",
       "    <tr>\n",
       "      <th>6812</th>\n",
       "      <td>Country Pride</td>\n",
       "      <td>Adrienne our waitress was wonderful!!  The foo...</td>\n",
       "      <td>Valid</td>\n",
       "      <td>The review describes a genuine dining experien...</td>\n",
       "      <td>NaN</td>\n",
       "      <td>['Restaurant']</td>\n",
       "      <td>0</td>\n",
       "    </tr>\n",
       "  </tbody>\n",
       "</table>\n",
       "</div>"
      ],
      "text/plain": [
       "      business_name                                               text  \\\n",
       "6466      Mi Tierra  Service is terrible.  The food is nothing like...   \n",
       "6812  Country Pride  Adrienne our waitress was wonderful!!  The foo...   \n",
       "\n",
       "     predicted_label                                  prediction_reason  \\\n",
       "6466           Valid  The review provides detailed feedback about a ...   \n",
       "6812           Valid  The review describes a genuine dining experien...   \n",
       "\n",
       "     description                category  label  \n",
       "6466         NaN  ['Mexican restaurant']      0  \n",
       "6812         NaN          ['Restaurant']      0  "
      ]
     },
     "execution_count": 5,
     "metadata": {},
     "output_type": "execute_result"
    }
   ],
   "source": [
    "df.head(2)"
   ]
  },
  {
   "cell_type": "code",
   "execution_count": 6,
   "id": "52ef419a",
   "metadata": {},
   "outputs": [
    {
     "data": {
      "text/plain": [
       "6466    {'business_name': 'Mi Tierra', 'business_descr...\n",
       "6812    {'business_name': 'Country Pride', 'business_d...\n",
       "2468    {'business_name': 'Gators and Friends', 'busin...\n",
       "1059    {'business_name': 'Days Inn by Wyndham Lafayet...\n",
       "6868    {'business_name': 'Evangeline Maid Bakery Outl...\n",
       "                              ...                        \n",
       "8442    {'business_name': 'Shamrock', 'business_descri...\n",
       "8446    {'business_name': 'Blue Lagoon Spa', 'business...\n",
       "8448    {'business_name': 'Sunrise Bakery Cafe', 'busi...\n",
       "8462    {'business_name': 'Key Village Shopping Center...\n",
       "8471    {'business_name': 'Pizza Palace Express', 'bus...\n",
       "Name: text, Length: 1087, dtype: object"
      ]
     },
     "execution_count": 6,
     "metadata": {},
     "output_type": "execute_result"
    }
   ],
   "source": [
    "PROMPT_PREFIX=\"\"\"\n",
    "You are a top-tier content moderation expert specializing in the evaluation of Google Maps location reviews. \n",
    "Your task is to parse a JSON object containing review data and accurately classify it according to the following policies and rules.\n",
    "\"\"\"\n",
    "\n",
    "def create_json_from_row(row):\n",
    "    \"\"\"\n",
    "    Converts a DataFrame row into a JSON-formatted string.\n",
    "    \"\"\"\n",
    "    json_object = {\n",
    "        \"business_name\": row[\"business_name\"],\n",
    "        \"business_description\": row[\"description\"],\n",
    "        \"business_category\": row[\"category\"],\n",
    "        \"review_text\": row[\"text\"],\n",
    "        # \"review_length\": len(row[\"text\"]),\n",
    "    }\n",
    "    return str(json_object)\n",
    "    # return PROMPT_PREFIX+str(json_object)\n",
    "\n",
    "df['text'] = df.apply(create_json_from_row, axis=1)\n",
    "df['text']\n"
   ]
  },
  {
   "cell_type": "code",
   "execution_count": 7,
   "id": "e098b4cd",
   "metadata": {},
   "outputs": [],
   "source": [
    "df_filtered = df.loc[:, ['text', 'label']]"
   ]
  },
  {
   "cell_type": "code",
   "execution_count": 8,
   "id": "23e31cd7",
   "metadata": {},
   "outputs": [
    {
     "name": "stderr",
     "output_type": "stream",
     "text": [
      "/home/zhangguibin/anaconda3/envs/dra_ykm/lib/python3.11/site-packages/tqdm/auto.py:21: TqdmWarning: IProgress not found. Please update jupyter and ipywidgets. See https://ipywidgets.readthedocs.io/en/stable/user_install.html\n",
      "  from .autonotebook import tqdm as notebook_tqdm\n"
     ]
    },
    {
     "name": "stdout",
     "output_type": "stream",
     "text": [
      "DatasetDict({\n",
      "    train: Dataset({\n",
      "        features: ['text', 'label'],\n",
      "        num_rows: 869\n",
      "    })\n",
      "    validation: Dataset({\n",
      "        features: ['text', 'label'],\n",
      "        num_rows: 218\n",
      "    })\n",
      "})\n"
     ]
    }
   ],
   "source": [
    "from datasets import Dataset, DatasetDict\n",
    "from sklearn.model_selection import train_test_split\n",
    "\n",
    "train_df, val_df = train_test_split(\n",
    "    df_filtered[['text','label']],\n",
    "    test_size=0.2,\n",
    "    random_state=seed,\n",
    "    stratify=df_filtered['label']\n",
    ")\n",
    "\n",
    "train_dataset = Dataset.from_pandas(train_df.reset_index(drop=True))\n",
    "val_dataset   = Dataset.from_pandas(val_df.reset_index(drop=True))\n",
    "\n",
    "my_dataset_dict = DatasetDict({\n",
    "    'train': train_dataset,\n",
    "    'validation': val_dataset\n",
    "}).remove_columns([])  # nothing to drop now\n",
    "\n",
    "print(my_dataset_dict)\n"
   ]
  },
  {
   "cell_type": "code",
   "execution_count": 9,
   "id": "810bd6bc",
   "metadata": {},
   "outputs": [
    {
     "data": {
      "text/plain": [
       "label\n",
       "2    96\n",
       "0    60\n",
       "1    35\n",
       "3    27\n",
       "Name: count, dtype: int64"
      ]
     },
     "execution_count": 9,
     "metadata": {},
     "output_type": "execute_result"
    }
   ],
   "source": [
    "val_df['label'].value_counts()"
   ]
  },
  {
   "cell_type": "code",
   "execution_count": 10,
   "id": "2c5b29bf",
   "metadata": {},
   "outputs": [],
   "source": [
    "# gpu usage\n",
    "import os\n",
    "os.environ[\"CUDA_VISIBLE_DEVICES\"] = \"1,2,3,4,5,6,7\""
   ]
  },
  {
   "cell_type": "code",
   "execution_count": 11,
   "id": "927b6493",
   "metadata": {},
   "outputs": [
    {
     "name": "stdout",
     "output_type": "stream",
     "text": [
      "GPU is available. Device count: 7\n",
      "Current device: 0\n",
      "Device name: NVIDIA L40S\n"
     ]
    }
   ],
   "source": [
    "import torch\n",
    "\n",
    "if torch.cuda.is_available():\n",
    "    print(f\"GPU is available. Device count: {torch.cuda.device_count()}\")\n",
    "    print(f\"Current device: {torch.cuda.current_device()}\")\n",
    "    print(f\"Device name: {torch.cuda.get_device_name(torch.cuda.current_device())}\")\n",
    "    device = torch.device(\"cuda\")\n",
    "else:\n",
    "    print(\"No GPU available, using CPU.\")\n",
    "    device = torch.device(\"cpu\")"
   ]
  },
  {
   "cell_type": "code",
   "execution_count": 12,
   "id": "6215ea66",
   "metadata": {},
   "outputs": [
    {
     "name": "stderr",
     "output_type": "stream",
     "text": [
      "Map: 100%|██████████| 869/869 [00:00<00:00, 6096.27 examples/s]\n",
      "Map: 100%|██████████| 218/218 [00:00<00:00, 5733.09 examples/s]\n"
     ]
    }
   ],
   "source": [
    "from transformers import AutoTokenizer, DataCollatorWithPadding\n",
    "\n",
    "checkpoint = \"nlptown/bert-base-multilingual-uncased-sentiment\"\n",
    "tokenizer = AutoTokenizer.from_pretrained(checkpoint)\n",
    "\n",
    "INSTRUCTION = (\n",
    "    \"Task: classify review for THIS business. \"\n",
    "    \"Labels: Valid, Advertisement, Irrelevant, Rant_Without_Visit. \"\n",
    "    \"Priority: Ad > Irrelevant > No-visit rant > Valid.\"\n",
    ")\n",
    "\n",
    "def tokenize_function(example):\n",
    "    texts = example[\"text\"]\n",
    "    # texts is a list when batched=True; replicate the instruction to match length\n",
    "    instr = [INSTRUCTION] * len(texts)\n",
    "    return tokenizer(instr, texts, truncation=True, max_length=256)\n",
    "\n",
    "\n",
    "tokenized_datasets = my_dataset_dict.map(tokenize_function, batched=True)\n",
    "data_collator = DataCollatorWithPadding(tokenizer=tokenizer)\n",
    "\n",
    "# drop any raw columns that may exist (prompted_text OR text, and any index col)\n",
    "cols_to_drop = [c for c in tokenized_datasets[\"train\"].column_names \n",
    "                if c in [\"prompted_text\", \"text\", \"__index_level_0__\"]]\n",
    "if cols_to_drop:\n",
    "    tokenized_datasets = tokenized_datasets.remove_columns(cols_to_drop)\n",
    "\n"
   ]
  },
  {
   "cell_type": "code",
   "execution_count": 13,
   "id": "f1300ea3",
   "metadata": {},
   "outputs": [
    {
     "name": "stderr",
     "output_type": "stream",
     "text": [
      "Some weights of BertForSequenceClassification were not initialized from the model checkpoint at nlptown/bert-base-multilingual-uncased-sentiment and are newly initialized because the shapes did not match:\n",
      "- classifier.bias: found shape torch.Size([5]) in the checkpoint and torch.Size([4]) in the model instantiated\n",
      "- classifier.weight: found shape torch.Size([5, 768]) in the checkpoint and torch.Size([4, 768]) in the model instantiated\n",
      "You should probably TRAIN this model on a down-stream task to be able to use it for predictions and inference.\n",
      "/home/zhangguibin/anaconda3/envs/dra_ykm/lib/python3.11/site-packages/torch/nn/parallel/_functions.py:71: UserWarning: Was asked to gather along dimension 0, but all input tensors were scalars; will instead unsqueeze and return a vector.\n",
      "  warnings.warn(\n"
     ]
    },
    {
     "data": {
      "text/html": [
       "\n",
       "    <div>\n",
       "      \n",
       "      <progress value='48' max='48' style='width:300px; height:20px; vertical-align: middle;'></progress>\n",
       "      [48/48 00:57, Epoch 6/6]\n",
       "    </div>\n",
       "    <table border=\"1\" class=\"dataframe\">\n",
       "  <thead>\n",
       " <tr style=\"text-align: left;\">\n",
       "      <th>Epoch</th>\n",
       "      <th>Training Loss</th>\n",
       "      <th>Validation Loss</th>\n",
       "      <th>Accuracy</th>\n",
       "      <th>F1 Weighted</th>\n",
       "      <th>F1 Macro</th>\n",
       "    </tr>\n",
       "  </thead>\n",
       "  <tbody>\n",
       "    <tr>\n",
       "      <td>1</td>\n",
       "      <td>1.325500</td>\n",
       "      <td>1.174320</td>\n",
       "      <td>0.458716</td>\n",
       "      <td>0.304706</td>\n",
       "      <td>0.219355</td>\n",
       "    </tr>\n",
       "    <tr>\n",
       "      <td>2</td>\n",
       "      <td>1.136900</td>\n",
       "      <td>0.752862</td>\n",
       "      <td>0.766055</td>\n",
       "      <td>0.747228</td>\n",
       "      <td>0.742533</td>\n",
       "    </tr>\n",
       "    <tr>\n",
       "      <td>3</td>\n",
       "      <td>0.618300</td>\n",
       "      <td>0.511468</td>\n",
       "      <td>0.862385</td>\n",
       "      <td>0.860748</td>\n",
       "      <td>0.870700</td>\n",
       "    </tr>\n",
       "    <tr>\n",
       "      <td>4</td>\n",
       "      <td>0.480300</td>\n",
       "      <td>0.401759</td>\n",
       "      <td>0.871560</td>\n",
       "      <td>0.872401</td>\n",
       "      <td>0.882292</td>\n",
       "    </tr>\n",
       "    <tr>\n",
       "      <td>5</td>\n",
       "      <td>0.373600</td>\n",
       "      <td>0.382939</td>\n",
       "      <td>0.889908</td>\n",
       "      <td>0.890169</td>\n",
       "      <td>0.901864</td>\n",
       "    </tr>\n",
       "    <tr>\n",
       "      <td>6</td>\n",
       "      <td>0.272300</td>\n",
       "      <td>0.393175</td>\n",
       "      <td>0.880734</td>\n",
       "      <td>0.881931</td>\n",
       "      <td>0.896514</td>\n",
       "    </tr>\n",
       "  </tbody>\n",
       "</table><p>"
      ],
      "text/plain": [
       "<IPython.core.display.HTML object>"
      ]
     },
     "metadata": {},
     "output_type": "display_data"
    },
    {
     "name": "stderr",
     "output_type": "stream",
     "text": [
      "/home/zhangguibin/anaconda3/envs/dra_ykm/lib/python3.11/site-packages/torch/nn/parallel/_functions.py:71: UserWarning: Was asked to gather along dimension 0, but all input tensors were scalars; will instead unsqueeze and return a vector.\n",
      "  warnings.warn(\n",
      "/home/zhangguibin/anaconda3/envs/dra_ykm/lib/python3.11/site-packages/torch/nn/parallel/_functions.py:71: UserWarning: Was asked to gather along dimension 0, but all input tensors were scalars; will instead unsqueeze and return a vector.\n",
      "  warnings.warn(\n",
      "/home/zhangguibin/anaconda3/envs/dra_ykm/lib/python3.11/site-packages/torch/nn/parallel/_functions.py:71: UserWarning: Was asked to gather along dimension 0, but all input tensors were scalars; will instead unsqueeze and return a vector.\n",
      "  warnings.warn(\n",
      "/home/zhangguibin/anaconda3/envs/dra_ykm/lib/python3.11/site-packages/torch/nn/parallel/_functions.py:71: UserWarning: Was asked to gather along dimension 0, but all input tensors were scalars; will instead unsqueeze and return a vector.\n",
      "  warnings.warn(\n",
      "/home/zhangguibin/anaconda3/envs/dra_ykm/lib/python3.11/site-packages/torch/nn/parallel/_functions.py:71: UserWarning: Was asked to gather along dimension 0, but all input tensors were scalars; will instead unsqueeze and return a vector.\n",
      "  warnings.warn(\n"
     ]
    },
    {
     "data": {
      "text/plain": [
       "TrainOutput(global_step=48, training_loss=0.6779810115695, metrics={'train_runtime': 66.1658, 'train_samples_per_second': 78.802, 'train_steps_per_second': 0.725, 'total_flos': 666661385450112.0, 'train_loss': 0.6779810115695, 'epoch': 6.0})"
      ]
     },
     "execution_count": 13,
     "metadata": {},
     "output_type": "execute_result"
    }
   ],
   "source": [
    "from transformers import AutoModelForSequenceClassification, TrainingArguments, Trainer\n",
    "from sklearn.metrics import accuracy_score, f1_score\n",
    "import numpy as np\n",
    "\n",
    "model = AutoModelForSequenceClassification.from_pretrained(checkpoint, num_labels=4,ignore_mismatched_sizes=True)\n",
    "\n",
    "# 简单评估指标（最小改动）\n",
    "def compute_metrics(eval_pred):\n",
    "    logits, labels = eval_pred\n",
    "    preds = np.argmax(logits, axis=-1)\n",
    "    return {\n",
    "        \"accuracy\": accuracy_score(labels, preds),\n",
    "        \"f1_weighted\": f1_score(labels, preds, average=\"weighted\", zero_division=0),\n",
    "        \"f1_macro\": f1_score(labels, preds, average=\"macro\", zero_division=0),\n",
    "    }\n",
    "\n",
    "# 2. 设置训练参数\n",
    "training_args = TrainingArguments(\n",
    "    output_dir=f\"./results/{checkpoint}\",\n",
    "    num_train_epochs=6,\n",
    "    per_device_train_batch_size=16,\n",
    "    per_device_eval_batch_size=64,\n",
    "    warmup_ratio=0.1,\n",
    "    weight_decay=0.01,\n",
    "    logging_dir=\"./logs\",\n",
    "    # Add these two lines to show training loss\n",
    "    logging_strategy=\"steps\",\n",
    "    logging_steps=6,  \n",
    "    fp16=True,\n",
    "    eval_strategy=\"epoch\",\n",
    "    save_strategy=\"epoch\",\n",
    "    load_best_model_at_end=True,\n",
    "    metric_for_best_model=\"f1_macro\",\n",
    "    greater_is_better=True,\n",
    ")\n",
    "\n",
    "# 假设你已经准备好了 tokenized_datasets\n",
    "# tokenized_datasets['train'], tokenized_datasets['test']\n",
    "\n",
    "# 3. 初始化 Trainer\n",
    "trainer = Trainer(\n",
    "    model=model,                                   # 模型会被自动移动到GPU\n",
    "    args=training_args,                            # 训练参数\n",
    "    train_dataset=tokenized_datasets['train'],\n",
    "    eval_dataset=tokenized_datasets[\"validation\"],\n",
    "    data_collator=data_collator,\n",
    "    processing_class=tokenizer,                           # （替换 processing_class）\n",
    "    compute_metrics=compute_metrics,               # 增加评估指标\n",
    ")\n",
    "\n",
    "# 4. 开始训练\n",
    "#    在调用 .train() 时，每一批数据也会被自动发送到GPU\n",
    "trainer.train()\n"
   ]
  },
  {
   "cell_type": "code",
   "execution_count": 17,
   "id": "a4f79687",
   "metadata": {},
   "outputs": [
    {
     "name": "stderr",
     "output_type": "stream",
     "text": [
      "/home/zhangguibin/anaconda3/envs/dra_ykm/lib/python3.11/site-packages/torch/nn/parallel/_functions.py:71: UserWarning: Was asked to gather along dimension 0, but all input tensors were scalars; will instead unsqueeze and return a vector.\n",
      "  warnings.warn(\n"
     ]
    },
    {
     "data": {
      "text/html": [],
      "text/plain": [
       "<IPython.core.display.HTML object>"
      ]
     },
     "metadata": {},
     "output_type": "display_data"
    },
    {
     "name": "stdout",
     "output_type": "stream",
     "text": [
      "                    precision    recall  f1-score   support\n",
      "\n",
      "             Valid      0.806     0.833     0.820        60\n",
      "     Advertisement      0.943     0.943     0.943        35\n",
      "        Irrelevant      0.914     0.885     0.899        96\n",
      "Rant_Without_Visit      0.929     0.963     0.945        27\n",
      "\n",
      "          accuracy                          0.890       218\n",
      "         macro avg      0.898     0.906     0.902       218\n",
      "      weighted avg      0.891     0.890     0.890       218\n",
      "\n",
      "Confusion matrix:\n",
      " [[50  1  7  2]\n",
      " [ 1 33  1  0]\n",
      " [11  0 85  0]\n",
      " [ 0  1  0 26]]\n"
     ]
    }
   ],
   "source": [
    "from sklearn.metrics import classification_report, confusion_matrix\n",
    "import numpy as np\n",
    "\n",
    "id2label = {0: \"Valid\", 1: \"Advertisement\", 2: \"Irrelevant\", 3: \"Rant_Without_Visit\"}\n",
    "all_labels = [0, 1, 2, 3]\n",
    "target_names = [id2label[i] for i in all_labels]\n",
    "\n",
    "predictions = trainer.predict(tokenized_datasets[\"validation\"])\n",
    "logits = predictions.predictions\n",
    "labels = predictions.label_ids\n",
    "preds = np.argmax(logits, axis=-1).astype(int)\n",
    "\n",
    "\n",
    "print(classification_report(\n",
    "    labels, preds,\n",
    "    labels=all_labels,              # <-- ensure fixed label set\n",
    "    target_names=target_names,\n",
    "    zero_division=0,\n",
    "    digits=3\n",
    "))\n",
    "\n",
    "print(\"Confusion matrix:\\n\", confusion_matrix(labels, preds, labels=all_labels))"
   ]
  },
  {
   "cell_type": "code",
   "execution_count": null,
   "id": "fec6f36d",
   "metadata": {},
   "outputs": [],
   "source": [
    "# from scipy.special import softmax\n",
    "\n",
    "# threshold=0.4\n",
    "# probs = softmax(logits, axis=-1)\n",
    "\n",
    "# # 默认预测\n",
    "# preds_default = np.argmax(probs, axis=-1)\n",
    "\n",
    "# # --- 核心改动在这里 ---\n",
    "# # 假设 'Irrelevant' 是标签 2\n",
    "# irrelevant_probs = probs[:, 2] \n",
    "\n",
    "# # 如果 'Irrelevant' 的概率超过了我们设定的低阈值，就强制预测为 'Irrelevant'\n",
    "# # 否则，才使用默认的最高概率预测\n",
    "# preds_adjusted = np.where(irrelevant_probs > threshold, 2, preds_default)\n",
    "\n",
    "# preds=preds_adjusted\n",
    "\n",
    "# print(classification_report(\n",
    "#     labels, preds,\n",
    "#     labels=all_labels,              # <-- ensure fixed label set\n",
    "#     target_names=target_names,\n",
    "#     zero_division=0,\n",
    "#     digits=3\n",
    "# ))\n",
    "\n",
    "# print(\"Confusion matrix:\\n\", confusion_matrix(labels, preds, labels=all_labels))\n"
   ]
  },
  {
   "cell_type": "code",
   "execution_count": 18,
   "id": "151d5c6d",
   "metadata": {},
   "outputs": [
    {
     "name": "stderr",
     "output_type": "stream",
     "text": [
      "/home/zhangguibin/anaconda3/envs/dra_ykm/lib/python3.11/site-packages/torch/nn/parallel/_functions.py:71: UserWarning: Was asked to gather along dimension 0, but all input tensors were scalars; will instead unsqueeze and return a vector.\n",
      "  warnings.warn(\n"
     ]
    },
    {
     "data": {
      "text/html": [],
      "text/plain": [
       "<IPython.core.display.HTML object>"
      ]
     },
     "metadata": {},
     "output_type": "display_data"
    },
    {
     "name": "stdout",
     "output_type": "stream",
     "text": [
      "第一阶段预测为 'label=0' 的数据有 62 条。\n",
      "已成功创建用于第二阶段预测的新数据集：\n",
      "Dataset({\n",
      "    features: ['label', 'input_ids', 'token_type_ids', 'attention_mask'],\n",
      "    num_rows: 62\n",
      "})\n",
      "正在将数据集保存到 './stage2_filtered_data' ...\n"
     ]
    },
    {
     "name": "stderr",
     "output_type": "stream",
     "text": [
      "Saving the dataset (1/1 shards): 100%|██████████| 62/62 [00:00<00:00, 15490.04 examples/s]"
     ]
    },
    {
     "name": "stdout",
     "output_type": "stream",
     "text": [
      "保存成功！\n"
     ]
    },
    {
     "name": "stderr",
     "output_type": "stream",
     "text": [
      "\n"
     ]
    }
   ],
   "source": [
    "import numpy as np\n",
    "from datasets import Dataset\n",
    "\n",
    "# 你已有的代码\n",
    "predictions = trainer.predict(tokenized_datasets[\"validation\"])\n",
    "logits = predictions.predictions\n",
    "labels = predictions.label_ids\n",
    "preds = np.argmax(logits, axis=-1).astype(int)\n",
    "\n",
    "# -------------------- 核心代码开始 --------------------\n",
    "\n",
    "# 1. 创建一个布尔掩码 (boolean mask)，标记出所有被预测为 0 的位置\n",
    "#    mask 会是一个 True/False 的数组，例如 [True, False, True, ...]\n",
    "mask = (preds == 0)\n",
    "print(f\"第一阶段预测为 'label=0' 的数据有 {mask.sum()} 条。\")\n",
    "\n",
    "# 2. 从原始验证集中，根据掩码筛选出这些数据\n",
    "#    我们使用 .select() 方法，它需要的是索引号，而不是True/False\n",
    "indices_to_stage2 = np.where(mask)[0]\n",
    "\n",
    "# 创建一个新的数据集，专门用于第二阶段的预测\n",
    "stage2_dataset = tokenized_datasets[\"validation\"].select(indices_to_stage2)\n",
    "\n",
    "print(\"已成功创建用于第二阶段预测的新数据集：\")\n",
    "print(stage2_dataset)\n",
    "\n",
    "# 为了后续合并结果，我们还需要筛选出这些数据的真实标签\n",
    "stage2_labels = labels[mask]\n",
    "\n",
    "# 假设 stage2_dataset 已经创建好了\n",
    "# stage2_dataset = tokenized_datasets[\"validation\"].select(indices_to_stage2)\n",
    "\n",
    "# --- 把数据集保存到硬盘 ---\n",
    "\n",
    "# 1. 定义一个你想要保存的文件夹名称\n",
    "save_path = \"./stage2_filtered_data\"\n",
    "\n",
    "# 2. 调用 .save_to_disk() 方法\n",
    "print(f\"正在将数据集保存到 '{save_path}' ...\")\n",
    "stage2_dataset.save_to_disk(save_path)\n",
    "print(\"保存成功！\")"
   ]
  },
  {
   "cell_type": "code",
   "execution_count": null,
   "id": "4579bc53",
   "metadata": {},
   "outputs": [
    {
     "name": "stdout",
     "output_type": "stream",
     "text": [
      "正在从 './stage2_filtered_data' 加载数据集...\n",
      "加载成功！\n",
      "\n",
      "加载后的数据集信息：\n",
      "Dataset({\n",
      "    features: ['label', 'input_ids', 'token_type_ids', 'attention_mask'],\n",
      "    num_rows: 62\n",
      "})\n"
     ]
    }
   ],
   "source": [
    "from datasets import load_from_disk\n",
    "\n",
    "# --- 从硬盘加载之前保存的数据集 ---\n",
    "\n",
    "# 1. 指定之前保存的那个文件夹路径\n",
    "load_path = \"./stage2_filtered_data\"\n",
    "\n",
    "# 2. 调用 load_from_disk() 函数\n",
    "print(f\"正在从 '{load_path}' 加载数据集...\")\n",
    "loaded_stage2_dataset = load_from_disk(load_path)\n",
    "print(\"加载成功！\")\n",
    "\n",
    "# 验证一下加载回来的数据集\n",
    "print(\"\\n加载后的数据集信息：\")\n",
    "print(loaded_stage2_dataset)\n",
    "\n",
    "# 你可以看到，它的结构和内容与保存前完全一样\n",
    "# 现在你可以直接用它进行第二阶段的训练或预测了\n",
    "#\n",
    "# 例如:\n"
   ]
  },
  {
   "cell_type": "code",
   "execution_count": null,
   "id": "61ae1401",
   "metadata": {},
   "outputs": [
    {
     "name": "stderr",
     "output_type": "stream",
     "text": [
      "/home/zhangguibin/anaconda3/envs/dra_ykm/lib/python3.11/site-packages/torch/nn/parallel/_functions.py:71: UserWarning: Was asked to gather along dimension 0, but all input tensors were scalars; will instead unsqueeze and return a vector.\n",
      "  warnings.warn(\n"
     ]
    },
    {
     "data": {
      "text/html": [],
      "text/plain": [
       "<IPython.core.display.HTML object>"
      ]
     },
     "metadata": {},
     "output_type": "display_data"
    },
    {
     "name": "stdout",
     "output_type": "stream",
     "text": [
      "                    precision    recall  f1-score   support\n",
      "\n",
      "             Valid      0.806     0.833     0.820        60\n",
      "     Advertisement      0.943     0.943     0.943        35\n",
      "        Irrelevant      0.914     0.885     0.899        96\n",
      "Rant_Without_Visit      0.929     0.963     0.945        27\n",
      "\n",
      "          accuracy                          0.890       218\n",
      "         macro avg      0.898     0.906     0.902       218\n",
      "      weighted avg      0.891     0.890     0.890       218\n",
      "\n",
      "Confusion matrix:\n",
      " [[50  1  7  2]\n",
      " [ 1 33  1  0]\n",
      " [11  0 85  0]\n",
      " [ 0  1  0 26]]\n"
     ]
    }
   ],
   "source": [
    "from sklearn.metrics import classification_report, confusion_matrix\n",
    "import numpy as np\n",
    "\n",
    "id2label = {0: \"Valid\", 1: \"Advertisement\", 2: \"Irrelevant\", 3: \"Rant_Without_Visit\"}\n",
    "all_labels = [0, 1, 2, 3]\n",
    "target_names = [id2label[i] for i in all_labels]\n",
    "# stage2_predictions = trainer_stage2.predict(loaded_stage2_dataset)\n",
    "predictions = trainer.predict(loaded_stage2_dataset)\n",
    "logits = predictions.predictions\n",
    "labels = predictions.label_ids\n",
    "preds = np.argmax(logits, axis=-1).astype(int)\n",
    "\n",
    "\n",
    "print(classification_report(\n",
    "    labels, preds,\n",
    "    labels=all_labels,              # <-- ensure fixed label set\n",
    "    target_names=target_names,\n",
    "    zero_division=0,\n",
    "    digits=3\n",
    "))\n",
    "\n",
    "print(\"Confusion matrix:\\n\", confusion_matrix(labels, preds, labels=all_labels))"
   ]
  }
 ],
 "metadata": {
  "kernelspec": {
   "display_name": "dra_ykm",
   "language": "python",
   "name": "python3"
  },
  "language_info": {
   "codemirror_mode": {
    "name": "ipython",
    "version": 3
   },
   "file_extension": ".py",
   "mimetype": "text/x-python",
   "name": "python",
   "nbconvert_exporter": "python",
   "pygments_lexer": "ipython3",
   "version": "3.11.13"
  }
 },
 "nbformat": 4,
 "nbformat_minor": 5
}

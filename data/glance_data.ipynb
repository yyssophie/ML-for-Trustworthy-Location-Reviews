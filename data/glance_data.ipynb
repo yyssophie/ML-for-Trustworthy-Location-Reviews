{
 "cells": [
  {
   "cell_type": "code",
   "execution_count": 2,
   "id": "b3ec9b58",
   "metadata": {},
   "outputs": [
    {
     "data": {
      "text/plain": [
       "Index(['business_name', 'text', 'predicted_label', 'prediction_reason', 'name',\n",
       "       'description', 'category', 'index', 'rating', 'error'],\n",
       "      dtype='object')"
      ]
     },
     "execution_count": 2,
     "metadata": {},
     "output_type": "execute_result"
    }
   ],
   "source": [
    "import pandas as pd\n",
    "\n",
    "df=pd.read_csv('label_data_with_cnd/merged_all.csv')\n",
    "df.columns\n"
   ]
  },
  {
   "cell_type": "code",
   "execution_count": null,
   "id": "8c503cd4",
   "metadata": {},
   "outputs": [],
   "source": [
    "df=pd.read_csv('data_enhancement/advertisements_500_final.csv')\n",
    "df.columns"
   ]
  },
  {
   "cell_type": "code",
   "execution_count": null,
   "id": "8a88b55b",
   "metadata": {},
   "outputs": [],
   "source": [
    "tag_mapping_dict = {\n",
    "    'valid': 0,\n",
    "    'irrelavent': 1,\n",
    "    'pending': 2  # 方便地增加新规则\n",
    "    # ... 你可以在这里添加更多规则\n",
    "}"
   ]
  }
 ],
 "metadata": {
  "kernelspec": {
   "display_name": "dra_ykm",
   "language": "python",
   "name": "python3"
  },
  "language_info": {
   "codemirror_mode": {
    "name": "ipython",
    "version": 3
   },
   "file_extension": ".py",
   "mimetype": "text/x-python",
   "name": "python",
   "nbconvert_exporter": "python",
   "pygments_lexer": "ipython3",
   "version": "3.11.13"
  }
 },
 "nbformat": 4,
 "nbformat_minor": 5
}
